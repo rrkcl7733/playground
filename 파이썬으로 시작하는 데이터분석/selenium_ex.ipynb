{
 "cells": [
  {
   "cell_type": "code",
   "execution_count": 4,
   "id": "8425bd0f",
   "metadata": {},
   "outputs": [],
   "source": [
    "from selenium import webdriver\n",
    "from bs4 import BeautifulSoup"
   ]
  },
  {
   "cell_type": "code",
   "execution_count": 6,
   "id": "9334a458",
   "metadata": {},
   "outputs": [],
   "source": [
    "driver = webdriver.Edge(executable_path = 'D:/anaconda3/edgedriver_win64/msedgedriver.exe')\n",
    "url = 'https://map.naver.com/v5/?c=14141853.8397146,4508465.5594612,15,0,0,0,dh'\n",
    "driver.get(url)\n",
    "html = driver.page_source\n",
    "soup = BeautifulSoup(html, 'html.parser')"
   ]
  },
  {
   "cell_type": "code",
   "execution_count": 8,
   "id": "b882f320",
   "metadata": {},
   "outputs": [],
   "source": [
    "from selenium.webdriver.common.by import By\n",
    "from selenium.webdriver.common.keys import Keys\n",
    "\n",
    "driver = webdriver.Edge(executable_path = 'D:/anaconda3/edgedriver_win64/msedgedriver.exe')\n",
    "driver.get('http://www.naver.com')\n",
    "\n",
    "driver.find_element(By.NAME, 'query').send_keys('오늘밤은 삐딱하게' + Keys.ENTER)"
   ]
  },
  {
   "cell_type": "code",
   "execution_count": null,
   "id": "f849c0c0",
   "metadata": {},
   "outputs": [],
   "source": []
  }
 ],
 "metadata": {
  "kernelspec": {
   "display_name": "Python 3",
   "language": "python",
   "name": "python3"
  },
  "language_info": {
   "codemirror_mode": {
    "name": "ipython",
    "version": 3
   },
   "file_extension": ".py",
   "mimetype": "text/x-python",
   "name": "python",
   "nbconvert_exporter": "python",
   "pygments_lexer": "ipython3",
   "version": "3.8.8"
  }
 },
 "nbformat": 4,
 "nbformat_minor": 5
}
