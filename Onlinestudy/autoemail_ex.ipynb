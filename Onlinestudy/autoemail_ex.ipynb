{
 "cells": [
  {
   "cell_type": "code",
   "execution_count": 9,
   "id": "43748539",
   "metadata": {},
   "outputs": [],
   "source": [
    "import smtplib, email, os, openpyxl, sys, time, random   #  openpyxl - 엑셀파일 확인\n",
    "from io import StringIO\n",
    "\n",
    "from email.header import Header\n",
    "from email.mime.multipart import MIMEMultipart\n",
    "from email.mime.text import MIMEText\n",
    "from email.mime.image import MIMEImage\n",
    "from email import encoders\n",
    "from email.mime.base import MIMEBase"
   ]
  },
  {
   "cell_type": "code",
   "execution_count": 17,
   "id": "fddf8834",
   "metadata": {},
   "outputs": [
    {
     "name": "stdout",
     "output_type": "stream",
     "text": [
      "계정 : \n",
      "비번 : dd\n"
     ]
    }
   ],
   "source": [
    "gid = input(\"계정 : \")\n",
    "gpw = input(\"비번 : \")\n",
    "s_time = time.time()\n",
    "\n",
    "# file_name = input(\"파일이름 : \")\n",
    "# txt_files = \"텍스트파일 위치\"\n",
    "# img_files = \"사진파일 위치\"\n",
    "\n",
    "wb = openpyxl.load_workbook(\"D:/My_Jupyter/온라인 파이썬 강의/파이썬을 활용한 데이터분석 및 시각화_실습(전체)v2/10차시/email_list.xlsx\")\n",
    "sheet = wb[\"Sheet1\"]\n",
    "member = {}\n",
    "\n",
    "for i in range(2, sheet.max_row + 1) :  # 엑셀 첫 행은 필요없음\n",
    "    name = sheet.cell(row=i, column=1).value\n",
    "    email = sheet.cell(row=i, column=2).value\n",
    "    member[name] = email\n",
    "    \n",
    "smtp_1 = smtplib.SMTP_SSL('smtp.gmail.com',465)\n",
    "smtp_1.ehlo()\n",
    "#smtp_1.login(gid,gpw)\n",
    "\n",
    "count = 0\n",
    "complete_list = []\n",
    "fail_list = []\n",
    "\n",
    "for name, email in member.items():\n",
    "    # 메일 내용 직접 타이핑할 경우\n",
    "    # msg = MIMEText(\"%s님께 \\n 이런 내용을 보냅니다\", %name)\n",
    "    \n",
    "    # 보낼 내용이 특정 파일에 있다?\n",
    "    \n",
    "    #with open(\"특정 파일주소\") as ment :\n",
    "        #msgtxt = MIMEText(ment.read() %name)\n",
    "        \n",
    "    # txt 첨부파일 등록 방법\n",
    "    #filename = txt_files\n",
    "    #part = MIMEBase('application', \"octet-stream\")\n",
    "    #part.set_payload(open(filename, \"rb\").read())\n",
    "    #encoders.encode_base64(part)\n",
    "    #part.add_header('Content-Disposition', \"attachment : filename = %s\" %os.path.basename(filename))\n",
    "    #msg = MIMEMultipart()\n",
    "    #msg.attach(part)\n",
    "    \n",
    "    # image 첨부파일 등록방법\n",
    "    #filename2 = img_files\n",
    "    #part2 = MIMEBase('application', \"octet-stream\")\n",
    "    #part2.set_payload(open(filename2, \"rb\").read())\n",
    "    #encoders.encode_base64(part2)\n",
    "    #part2.add_header('Content-Disposition', 'attachment; filename= %s' %os.path.basename(filename2))\n",
    "    \n",
    "    # 메일 보낼 내용\n",
    "    #msg = MIMEMultipart()\n",
    "    #msg.attach(part)\n",
    "    #msg.attach(part2)\n",
    "    #msg.attach(msgtxt)\n",
    "    #msg[\"Subject\"] = Header(s=\"%s 님께.\"%name, charset = 'utf-8')\n",
    "    \n",
    "    now = time.localtime()\n",
    "    s = '%04d-%02d-%02d-%02d-%02d-%02d'%(now.tm_year, now.tm_mon, now.tm_mday, now.tm_hour, now.tm_min, now.tm_sec)\n",
    "    \n",
    "    #sendmailStatus = smtp_1.sendmail('내주소',email, msg.as_string())\n",
    "    #time.sleep(random.randrange(2,6))\n",
    "    \n",
    "    #complete_list.append(email)\n",
    "    #count += 1\n",
    "    \n",
    "    #if sendmailStatus != {} :\n",
    "        #print(\"%s 오류 : %s\" %(email,sendmailStatus))\n",
    "    #e_time = time.time()\n",
    "    #t_time = e_time - s_time  --- 소요시간\n",
    "    \n",
    "    #발송 완료 명단 파일에 저장\n",
    "    #com_list == \"파일 위치\"\n",
    "    \n",
    "    #smtp_1.quit()"
   ]
  },
  {
   "cell_type": "code",
   "execution_count": null,
   "id": "1ffb2323",
   "metadata": {},
   "outputs": [],
   "source": []
  }
 ],
 "metadata": {
  "kernelspec": {
   "display_name": "Python 3",
   "language": "python",
   "name": "python3"
  },
  "language_info": {
   "codemirror_mode": {
    "name": "ipython",
    "version": 3
   },
   "file_extension": ".py",
   "mimetype": "text/x-python",
   "name": "python",
   "nbconvert_exporter": "python",
   "pygments_lexer": "ipython3",
   "version": "3.8.8"
  }
 },
 "nbformat": 4,
 "nbformat_minor": 5
}
