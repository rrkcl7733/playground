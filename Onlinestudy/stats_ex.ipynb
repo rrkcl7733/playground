{
 "cells": [
  {
   "cell_type": "code",
   "execution_count": 50,
   "id": "a53d1ac5",
   "metadata": {},
   "outputs": [],
   "source": [
    "# 빈도 분석\n",
    "import collections\n",
    "\n",
    "sal = [9700, 9500, 9900, 3800, 4300, 4300, 3800, 4200, 4500,3800, 3700, 3800, 4200, 9700]\n",
    "sal_count = collections.Counter(sal)"
   ]
  },
  {
   "cell_type": "code",
   "execution_count": 8,
   "id": "28f7ff57",
   "metadata": {},
   "outputs": [],
   "source": [
    "# 최대 최소 길이\n",
    "# max(sal) / min(sal) / len(sal)"
   ]
  },
  {
   "cell_type": "code",
   "execution_count": 9,
   "id": "4c04af96",
   "metadata": {},
   "outputs": [],
   "source": [
    "sal_sort = sorted(sal)\n",
    "# 첫번째 = sal_sort[0]\n",
    "# 마지막 = sal_sort[-1]\n",
    "\n",
    "# 역정렬하기\n",
    "sal_sort_rev = sorted(sal, reverse = True)"
   ]
  },
  {
   "cell_type": "code",
   "execution_count": 15,
   "id": "43047588",
   "metadata": {},
   "outputs": [
    {
     "data": {
      "text/plain": [
       "4250.0"
      ]
     },
     "execution_count": 15,
     "metadata": {},
     "output_type": "execute_result"
    }
   ],
   "source": [
    "mean_sal = sum(sal) / len(sal)\n",
    "import numpy as np\n",
    "np.mean(sal)\n",
    "np.median(sal) # 중앙값"
   ]
  },
  {
   "cell_type": "code",
   "execution_count": 19,
   "id": "a34e6309",
   "metadata": {},
   "outputs": [
    {
     "data": {
      "text/plain": [
       "2568.41"
      ]
     },
     "execution_count": 19,
     "metadata": {},
     "output_type": "execute_result"
    }
   ],
   "source": [
    "# 분산 & 표준편차\n",
    "round(np.var(sal),2)\n",
    "round(np.std(sal),2)"
   ]
  },
  {
   "cell_type": "code",
   "execution_count": 25,
   "id": "7065d48a",
   "metadata": {},
   "outputs": [
    {
     "data": {
      "text/html": [
       "<div>\n",
       "<style scoped>\n",
       "    .dataframe tbody tr th:only-of-type {\n",
       "        vertical-align: middle;\n",
       "    }\n",
       "\n",
       "    .dataframe tbody tr th {\n",
       "        vertical-align: top;\n",
       "    }\n",
       "\n",
       "    .dataframe thead th {\n",
       "        text-align: right;\n",
       "    }\n",
       "</style>\n",
       "<table border=\"1\" class=\"dataframe\">\n",
       "  <thead>\n",
       "    <tr style=\"text-align: right;\">\n",
       "      <th></th>\n",
       "      <th>0</th>\n",
       "      <th>1</th>\n",
       "    </tr>\n",
       "  </thead>\n",
       "  <tbody>\n",
       "    <tr>\n",
       "      <th>0</th>\n",
       "      <td>1.000000</td>\n",
       "      <td>0.997054</td>\n",
       "    </tr>\n",
       "    <tr>\n",
       "      <th>1</th>\n",
       "      <td>0.997054</td>\n",
       "      <td>1.000000</td>\n",
       "    </tr>\n",
       "  </tbody>\n",
       "</table>\n",
       "</div>"
      ],
      "text/plain": [
       "          0         1\n",
       "0  1.000000  0.997054\n",
       "1  0.997054  1.000000"
      ]
     },
     "execution_count": 25,
     "metadata": {},
     "output_type": "execute_result"
    }
   ],
   "source": [
    "import pandas as pd\n",
    "\n",
    "lst = [[1,2,3,4,5],[3,5,8,11,13]]\n",
    "\n",
    "df = pd.DataFrame(lst).T # .T 는 밑으로 입력\n",
    "corr = df.corr(method = 'pearson')"
   ]
  },
  {
   "cell_type": "code",
   "execution_count": 51,
   "id": "d0f84fee",
   "metadata": {},
   "outputs": [
    {
     "data": {
      "image/png": "[encoded data removed]",
      "text/plain": [
       "<Figure size 432x288 with 1 Axes>"
      ]
     },
     "metadata": {
      "needs_background": "light"
     },
     "output_type": "display_data"
    }
   ],
   "source": [
    "from scipy import stats\n",
    "from numpy import polyval\n",
    "from pylab import plot, title, show, legend\n",
    "x = [110,120,130,140,150]\n",
    "y = [100,105,128,115,142]\n",
    "\n",
    "slope, intercept, r, p, std = stats.linregress(x,y) # r - 상관계수 / p - p-value / std =  에러의 표준편차\n",
    "ry = polyval([slope, intercept], x)\n",
    "\n",
    "plot(x,y, '.') #    . <- 점으로 나타내라\n",
    "plot(x,ry, 'r.-') #     r <- 빨강 / . <- 점 찍어 / - <- 선 그어\n",
    "legend(['original', 'regression'])\n",
    "show()"
   ]
  }
 ],
 "metadata": {
  "kernelspec": {
   "display_name": "Python 3",
   "language": "python",
   "name": "python3"
  },
  "language_info": {
   "codemirror_mode": {
    "name": "ipython",
    "version": 3
   },
   "file_extension": ".py",
   "mimetype": "text/x-python",
   "name": "python",
   "nbconvert_exporter": "python",
   "pygments_lexer": "ipython3",
   "version": "3.8.8"
  }
 },
 "nbformat": 4,
 "nbformat_minor": 5
}
