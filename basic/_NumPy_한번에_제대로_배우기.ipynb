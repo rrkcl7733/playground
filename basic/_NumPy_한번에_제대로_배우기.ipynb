{
 "cells": [
  {
   "cell_type": "markdown",
   "metadata": {
    "id": "J_FfQuu2Tb30"
   },
   "source": [
    "# NumPy 한번에 제대로 배우기"
   ]
  },
  {
   "cell_type": "markdown",
   "metadata": {
    "id": "Zgrrh9T2vs8u"
   },
   "source": [
    "\n",
    "\n",
    "---\n",
    "\n"
   ]
  },
  {
   "cell_type": "markdown",
   "metadata": {
    "id": "oR5hNBH-Retd"
   },
   "source": [
    "## NumPy 특징\n",
    "\n",
    "* Numerical Python의 약자\n",
    "* 고성능 과학 계산용 패키지로 강력한 N차원 배열 객체\n",
    "* 범용적 데이터 처리에 사용 가능한 다차원 컨테이너\n",
    "* 정교한 브로드캐스팅(broadcasting) 기능\n",
    "* 파이썬의 자료형 list와 비슷하지만, 더 빠르고 메모리를 효율적으로 관리\n",
    "* 반복문 없이 데이터 배열에 대한 처리를 지원하여 빠르고 편리\n",
    "* 데이터 과학 도구에 대한 생태계의 핵심을 이루고 있음"
   ]
  },
  {
   "cell_type": "code",
   "execution_count": 1,
   "metadata": {
    "id": "R9klTdhLQ564"
   },
   "outputs": [],
   "source": [
    "import numpy as np"
   ]
  },
  {
   "cell_type": "markdown",
   "metadata": {
    "id": "2hSWC5ptGyWP"
   },
   "source": [
    "\n",
    "\n",
    "---\n",
    "\n"
   ]
  },
  {
   "cell_type": "markdown",
   "metadata": {
    "id": "1kgkJZFlVUqk"
   },
   "source": [
    "## 배열 생성"
   ]
  },
  {
   "cell_type": "markdown",
   "metadata": {
    "id": "5eQ4sAkMbzm0"
   },
   "source": [
    "### 리스트로 배열 만들기\n"
   ]
  },
  {
   "cell_type": "code",
   "execution_count": 7,
   "metadata": {
    "id": "Mtod2jcPWVvV"
   },
   "outputs": [
    {
     "name": "stdout",
     "output_type": "stream",
     "text": [
      "[1 2 3 4 5]\n",
      "<class 'numpy.ndarray'>\n",
      "(5,)\n",
      "5\n"
     ]
    }
   ],
   "source": [
    "a1 = np.array([1,2,3,4,5])\n",
    "print(a1)\n",
    "print(type(a1))\n",
    "print(a1.shape)\n",
    "a1[0] = 10"
   ]
  },
  {
   "cell_type": "code",
   "execution_count": 11,
   "metadata": {
    "id": "vp9tkHH8esXT"
   },
   "outputs": [
    {
     "name": "stdout",
     "output_type": "stream",
     "text": [
      "(3, 3)\n"
     ]
    }
   ],
   "source": [
    "a2 = np.array([[1,2,3],[4,5,6],[7,8,9]])\n",
    "print(a2.shape)"
   ]
  },
  {
   "cell_type": "markdown",
   "metadata": {
    "id": "PNkKtw4CoSDB"
   },
   "source": [
    "### 배열 생성 및 초기화"
   ]
  },
  {
   "cell_type": "markdown",
   "metadata": {
    "id": "mJVii5p_VfgM"
   },
   "source": [
    "* `zeros()`: 모든 요소를 0으로 초기화"
   ]
  },
  {
   "cell_type": "code",
   "execution_count": 13,
   "metadata": {
    "id": "W_SF1tVoVTf1"
   },
   "outputs": [
    {
     "data": {
      "text/plain": [
       "array([0., 0., 0., 0., 0., 0., 0., 0., 0., 0.])"
      ]
     },
     "execution_count": 13,
     "metadata": {},
     "output_type": "execute_result"
    }
   ],
   "source": [
    "np.zeros(10)"
   ]
  },
  {
   "cell_type": "markdown",
   "metadata": {
    "id": "LjYFQrODVqhX"
   },
   "source": [
    "* `ones()`: 모든 요소를 1로 초기화"
   ]
  },
  {
   "cell_type": "code",
   "execution_count": 14,
   "metadata": {},
   "outputs": [
    {
     "data": {
      "text/plain": [
       "array([1., 1., 1., 1., 1., 1., 1., 1., 1., 1.])"
      ]
     },
     "execution_count": 14,
     "metadata": {},
     "output_type": "execute_result"
    }
   ],
   "source": [
    "np.ones(10)"
   ]
  },
  {
   "cell_type": "markdown",
   "metadata": {
    "id": "jnmm3Cj-cGtx"
   },
   "source": [
    "* `full()`: 모든 요소를 지정한 값으로 초기화"
   ]
  },
  {
   "cell_type": "code",
   "execution_count": 15,
   "metadata": {
    "id": "oscabrdcV7Ny"
   },
   "outputs": [
    {
     "data": {
      "text/plain": [
       "array([[1.23, 1.23, 1.23],\n",
       "       [1.23, 1.23, 1.23],\n",
       "       [1.23, 1.23, 1.23]])"
      ]
     },
     "execution_count": 15,
     "metadata": {},
     "output_type": "execute_result"
    }
   ],
   "source": [
    "np.full((3,3), 1.23)"
   ]
  },
  {
   "cell_type": "markdown",
   "metadata": {
    "id": "0SRI4jbmlIKc"
   },
   "source": [
    "* `eye()`: 단위행렬(identity matrix) 생성\n",
    "  + 주대각선의 원소가 모두 1이고 나머지 원소는 모두 0인 정사각 행렬"
   ]
  },
  {
   "cell_type": "code",
   "execution_count": 16,
   "metadata": {
    "id": "VceBVLLjk9o5"
   },
   "outputs": [
    {
     "data": {
      "text/plain": [
       "array([[1., 0., 0.],\n",
       "       [0., 1., 0.],\n",
       "       [0., 0., 1.]])"
      ]
     },
     "execution_count": 16,
     "metadata": {},
     "output_type": "execute_result"
    }
   ],
   "source": [
    "np.eye(3)"
   ]
  },
  {
   "cell_type": "markdown",
   "metadata": {
    "id": "7CCH1ZMT5R02"
   },
   "source": [
    "* `tri()`: 삼각행렬 생성"
   ]
  },
  {
   "cell_type": "code",
   "execution_count": 17,
   "metadata": {
    "id": "mLe2Bhj05VYu"
   },
   "outputs": [
    {
     "data": {
      "text/plain": [
       "array([[1., 0., 0.],\n",
       "       [1., 1., 0.],\n",
       "       [1., 1., 1.]])"
      ]
     },
     "execution_count": 17,
     "metadata": {},
     "output_type": "execute_result"
    }
   ],
   "source": [
    "np.tri(3)"
   ]
  },
  {
   "cell_type": "markdown",
   "metadata": {
    "id": "ObZRA4HclZlO"
   },
   "source": [
    "* `empty()`: 초기화되지 않은 배열 생성\n",
    "  + 초기화가 없어서 배열 생성비용 저렴하고 빠름\n",
    "  + 초기화되지 않아서 기존 메모리 위치에 존재하는 값이 있음"
   ]
  },
  {
   "cell_type": "code",
   "execution_count": 18,
   "metadata": {
    "id": "I3SoFgiglAkz"
   },
   "outputs": [
    {
     "data": {
      "text/plain": [
       "array([1., 1., 1., 1., 1., 1., 1., 1., 1., 1.])"
      ]
     },
     "execution_count": 18,
     "metadata": {},
     "output_type": "execute_result"
    }
   ],
   "source": [
    "np.empty(10) # 빠르긴 하지만 어떤 값이 올 지 모름"
   ]
  },
  {
   "cell_type": "markdown",
   "metadata": {
    "id": "p3uSl1Ccmi5_"
   },
   "source": [
    "* `_like()`: 지정된 배열과 shape가 같은 행렬 생성\n",
    "  + `np.zeros_like()`\n",
    "  + `np.ones_like()`\n",
    "  + `np.full_like()`\n",
    "  + `np.empty_like()`"
   ]
  },
  {
   "cell_type": "code",
   "execution_count": 19,
   "metadata": {
    "id": "Ad5RskRRlZLs"
   },
   "outputs": [
    {
     "name": "stdout",
     "output_type": "stream",
     "text": [
      "[10  2  3  4  5]\n"
     ]
    },
    {
     "data": {
      "text/plain": [
       "array([0, 0, 0, 0, 0])"
      ]
     },
     "execution_count": 19,
     "metadata": {},
     "output_type": "execute_result"
    }
   ],
   "source": [
    "print(a1)\n",
    "np.zeros_like(a1)"
   ]
  },
  {
   "cell_type": "code",
   "execution_count": 20,
   "metadata": {
    "id": "KChUHsG003Nf"
   },
   "outputs": [
    {
     "data": {
      "text/plain": [
       "array([[1, 1, 1],\n",
       "       [1, 1, 1],\n",
       "       [1, 1, 1]])"
      ]
     },
     "execution_count": 20,
     "metadata": {},
     "output_type": "execute_result"
    }
   ],
   "source": [
    "np.ones_like(a2)"
   ]
  },
  {
   "cell_type": "code",
   "execution_count": 21,
   "metadata": {
    "id": "PUnDz6b305Gg"
   },
   "outputs": [
    {
     "data": {
      "text/plain": [
       "array([[12, 12, 12],\n",
       "       [12, 12, 12],\n",
       "       [12, 12, 12]])"
      ]
     },
     "execution_count": 21,
     "metadata": {},
     "output_type": "execute_result"
    }
   ],
   "source": [
    "np.full_like(a2, 12)"
   ]
  },
  {
   "cell_type": "markdown",
   "metadata": {
    "id": "apoksGJNrn1z"
   },
   "source": [
    "### 생성한 값으로 배열 생성"
   ]
  },
  {
   "cell_type": "markdown",
   "metadata": {
    "id": "H3nmLct8cnV8"
   },
   "source": [
    "* `arange()`: 정수 범위로 배열 생성"
   ]
  },
  {
   "cell_type": "code",
   "execution_count": 23,
   "metadata": {
    "id": "mANy4WY4cDKa"
   },
   "outputs": [
    {
     "data": {
      "text/plain": [
       "array([ 0,  2,  4,  6,  8, 10, 12, 14, 16, 18, 20, 22, 24, 26, 28])"
      ]
     },
     "execution_count": 23,
     "metadata": {},
     "output_type": "execute_result"
    }
   ],
   "source": [
    "np.arange(0, 30, 2)"
   ]
  },
  {
   "cell_type": "markdown",
   "metadata": {
    "id": "s5kET1e6itlo"
   },
   "source": [
    "* `linspace()`: 범위 내에서 균등 간격의 배열 생성"
   ]
  },
  {
   "cell_type": "code",
   "execution_count": 24,
   "metadata": {
    "id": "u4q9gI7Zcltz"
   },
   "outputs": [
    {
     "data": {
      "text/plain": [
       "array([0.  , 0.25, 0.5 , 0.75, 1.  ])"
      ]
     },
     "execution_count": 24,
     "metadata": {},
     "output_type": "execute_result"
    }
   ],
   "source": [
    "np.linspace(0, 1, 5)"
   ]
  },
  {
   "cell_type": "markdown",
   "metadata": {
    "id": "Eq26d7T3nnAH"
   },
   "source": [
    "* `logspace()`: 범위 내에서 균등간격으로 로그 스케일로 배열 생성"
   ]
  },
  {
   "cell_type": "code",
   "execution_count": 25,
   "metadata": {
    "id": "-O29WBVEnyXX"
   },
   "outputs": [
    {
     "data": {
      "text/plain": [
       "array([ 1.25892541,  1.40400425,  1.565802  ,  1.74624535,  1.94748304,\n",
       "        2.1719114 ,  2.42220294,  2.70133812,  3.0126409 ,  3.35981829,\n",
       "        3.74700446,  4.17881006,  4.66037703,  5.19743987,  5.79639395,\n",
       "        6.46437163,  7.2093272 ,  8.04013161,  8.9666781 , 10.        ])"
      ]
     },
     "execution_count": 25,
     "metadata": {},
     "output_type": "execute_result"
    }
   ],
   "source": [
    "np.logspace(0.1, 1, 20)"
   ]
  },
  {
   "cell_type": "markdown",
   "metadata": {
    "id": "6_88s4_Jr7fO"
   },
   "source": [
    "### 랜덤값으로 배열 생성\n"
   ]
  },
  {
   "cell_type": "markdown",
   "metadata": {},
   "source": [
    "|함수|설명|\n",
    "|:-----------:|:-----------------------------------------|\n",
    "|`seed`       |난수 발생을 위한 시드(seed) 지정           |\n",
    "|`permutation`|순서를 임의로 바꾸거나 임의의 순열 반환    |\n",
    "|`shuffle`    |리스트나 배열의 순서를 뒤섞음              |\n",
    "|`random`     |랜덤한 수의 배열 생성                      |\n",
    "|`rand`       |균등분포에서 표본 추출                     |\n",
    "|`randint`    |주어진 최소/최대 범위의 난수 추출          |\n",
    "|`randn`      |표준편차 1, 평균값 0인 정규분포 표본 추출  |\n",
    "|`binomial`   |이항분포에서 표본 추출                     |\n",
    "|`normal`     |정규분포(가우시안)에서 표본 추출           |\n",
    "|`beta`       |베타분포에서 표본 추출                     |\n",
    "|`chisquare`  |카이제곱분포에서 표본 추출                 |\n",
    "|`gamma`      |감마분포에서 표본 추출                     |\n",
    "|`uniform`    |균등(0,1)분포에서 표본 추출                |"
   ]
  },
  {
   "cell_type": "markdown",
   "metadata": {
    "id": "CoK1cVUkjNMg"
   },
   "source": [
    "* `random.random()`: 랜덤한 수의 배열 생성"
   ]
  },
  {
   "cell_type": "code",
   "execution_count": 26,
   "metadata": {
    "id": "qJwccKEnjMze"
   },
   "outputs": [
    {
     "data": {
      "text/plain": [
       "array([[0.19564384, 0.79211555, 0.80880958],\n",
       "       [0.27177753, 0.52696141, 0.080262  ],\n",
       "       [0.27762918, 0.33848354, 0.92260078]])"
      ]
     },
     "execution_count": 26,
     "metadata": {},
     "output_type": "execute_result"
    }
   ],
   "source": [
    "np.random.random((3,3))"
   ]
  },
  {
   "cell_type": "markdown",
   "metadata": {
    "id": "BYsAVwA1kvDI"
   },
   "source": [
    "* `random.randint()`: 일정 구간의 랜덤 정수의 배열 생성"
   ]
  },
  {
   "cell_type": "code",
   "execution_count": 28,
   "metadata": {
    "id": "oR-UszZ_jqfQ"
   },
   "outputs": [
    {
     "data": {
      "text/plain": [
       "array([[3, 9, 1],\n",
       "       [9, 4, 4],\n",
       "       [2, 7, 6]])"
      ]
     },
     "execution_count": 28,
     "metadata": {},
     "output_type": "execute_result"
    }
   ],
   "source": [
    "np.random.randint(0, 10, (3,3))"
   ]
  },
  {
   "cell_type": "markdown",
   "metadata": {
    "id": "2r557WHsjrL3"
   },
   "source": [
    "* `random.normal()`: 정규분포(normal distribution)를 고려한 랜덤한 수의 배열 생성\n",
    "* 평균=0, 표준편차=1, 3 x 3 배열"
   ]
  },
  {
   "cell_type": "code",
   "execution_count": 29,
   "metadata": {
    "id": "Oan3bSpHi2Wq"
   },
   "outputs": [
    {
     "data": {
      "text/plain": [
       "array([[-0.10545937,  0.04089393,  1.3871239 ],\n",
       "       [ 0.97056439, -1.19295546, -0.73107829],\n",
       "       [ 1.20653567, -1.83664676,  0.19748577]])"
      ]
     },
     "execution_count": 29,
     "metadata": {},
     "output_type": "execute_result"
    }
   ],
   "source": [
    "np.random.normal(0, 1, (3,3))"
   ]
  },
  {
   "cell_type": "markdown",
   "metadata": {
    "id": "fPO-D1rHsrFw"
   },
   "source": [
    "* `random.rand()`: 균등분포(uniform distribution)를 고려한 랜덤한 수의 배열 생성"
   ]
  },
  {
   "cell_type": "code",
   "execution_count": 30,
   "metadata": {
    "id": "DxiyEjnXnDUT"
   },
   "outputs": [
    {
     "data": {
      "text/plain": [
       "array([[0.45913292, 0.38607489, 0.98328219],\n",
       "       [0.19145683, 0.31660228, 0.3587135 ],\n",
       "       [0.89233692, 0.06269696, 0.41495425]])"
      ]
     },
     "execution_count": 30,
     "metadata": {},
     "output_type": "execute_result"
    }
   ],
   "source": [
    "np.random.rand(3,3)"
   ]
  },
  {
   "cell_type": "markdown",
   "metadata": {
    "id": "IegH2dsPLQgd"
   },
   "source": [
    "* `random.randn()`: 표준 정규 분포(standard normal distribution)를 고려한 랜덤한 수의 배열 생성"
   ]
  },
  {
   "cell_type": "code",
   "execution_count": 32,
   "metadata": {
    "id": "V61VHa-JLIma"
   },
   "outputs": [
    {
     "data": {
      "text/plain": [
       "array([[ 0.45693296, -0.0486653 , -1.84897486],\n",
       "       [ 0.21053519, -1.1978889 , -0.66901617],\n",
       "       [-0.67855357, -1.54317551, -0.56292821]])"
      ]
     },
     "execution_count": 32,
     "metadata": {},
     "output_type": "execute_result"
    }
   ],
   "source": [
    "np.random.randn(3, 3)"
   ]
  },
  {
   "cell_type": "markdown",
   "metadata": {
    "id": "5ts0cYLQL_pT"
   },
   "source": [
    "### 표준 데이터 타입"
   ]
  },
  {
   "cell_type": "markdown",
   "metadata": {},
   "source": [
    "|데이터 타입|설명|\n",
    "|-----------|----|\n",
    "|`bool_`|바이트로 저장된 Boolean으로 True,False 가짐|\n",
    "|`int_`|기본 Integer 타입|\n",
    "|`intc`|C 언어에서 사용되는 `int`와 동일(일반적으로 `int32` or `int64`)|\n",
    "|`intp`|인덱싱에 사용되는 정수(C언어에서 `ssize_t`와 동일)|\n",
    "|`int8`|Byte(-128 ~ 127)|\n",
    "|`int16`|정수(-32768 ~ 32767)|\n",
    "|`int32`|정수(-2147483648 ~ 2147483647)|\n",
    "|`int64`|정수(-9223372036854775808 ~ 9223372036854775807)|\n",
    "|`uint8`|부호 없는 정수(0 ~ 255)|\n",
    "|`uint16`|부호 없는 정수(0 ~ 65535)|\n",
    "|`uint32`|부호 없는 정수(0 ~ 4294967295)|\n",
    "|`uint64`|부호 없는 정수(0 ~ 18446744073709551615)|\n",
    "|`float16`|반정밀 부동 소수점(Half precision float) : 부호 비트, 5비트 지수, 10비트 가수|\n",
    "|`float32`|단정밀 부동 소수점(Single precision float) : 부호 비트, 8비트 지수, 23비트 가수|\n",
    "|`float64`|배정밀 부동 소수점(Double precision float) : 부호 비트, 11비트 지수, 52비트 가수|\n",
    "|`float_`|`float64`를 줄여서 표현|\n",
    "|`complex64`|복소수(Complex number). 두 개의 32비트 부동 소수점으로 포현|\n",
    "|`complex128`|복소수, 두 개의 64비트 부동 소수점으로 표현|\n",
    "|`complex_`|`complex128`를 줄여서 표현|"
   ]
  },
  {
   "cell_type": "code",
   "execution_count": 33,
   "metadata": {
    "id": "rxqTqAFKL73y"
   },
   "outputs": [
    {
     "data": {
      "text/plain": [
       "array([0, 0, 0, 0, 0, 0, 0, 0, 0, 0, 0, 0, 0, 0, 0, 0, 0, 0, 0, 0])"
      ]
     },
     "execution_count": 33,
     "metadata": {},
     "output_type": "execute_result"
    }
   ],
   "source": [
    "np.zeros(20, dtype = int)"
   ]
  },
  {
   "cell_type": "code",
   "execution_count": 34,
   "metadata": {
    "id": "o9TuSl6HIsXr"
   },
   "outputs": [
    {
     "data": {
      "text/plain": [
       "array([[ True,  True,  True],\n",
       "       [ True,  True,  True],\n",
       "       [ True,  True,  True]])"
      ]
     },
     "execution_count": 34,
     "metadata": {},
     "output_type": "execute_result"
    }
   ],
   "source": [
    "np.ones((3,3), dtype = bool)"
   ]
  },
  {
   "cell_type": "code",
   "execution_count": 35,
   "metadata": {
    "id": "w-TciNfzEhY0"
   },
   "outputs": [
    {
     "data": {
      "text/plain": [
       "array([[1., 1., 1.],\n",
       "       [1., 1., 1.],\n",
       "       [1., 1., 1.]])"
      ]
     },
     "execution_count": 35,
     "metadata": {},
     "output_type": "execute_result"
    }
   ],
   "source": [
    "np.full((3,3), 1.0, dtype = float)"
   ]
  },
  {
   "cell_type": "markdown",
   "metadata": {
    "id": "1qFumu-p-0mQ"
   },
   "source": [
    "### 날짜/시간 배열 생성\n"
   ]
  },
  {
   "cell_type": "markdown",
   "metadata": {},
   "source": [
    "|코드|의미|상대적 시간 범위|절대적 시간 범위|\n",
    "|---|-------|-------------|-----------------------|\n",
    "|`Y`|연|±9.2e18 년|[9.2e18 BC, 9.2e18 AD]|\n",
    "|`M`|월|±7.6e17 년|[7.6e17 BC, 7.6e17 AD]|\n",
    "|`W`|주|±1.7e17 년|[1.7e17 BC, 1.7e17 AD]|\n",
    "|`D`|일|±2.5e16 년|[2.5e16 BC, 2.5e16 AD]|\n",
    "|`h`|시|±1.0e15 년|[1.0e15 BC, 1.0e15 AD]|\n",
    "|`m`|분|±1.7e13 년|[1.7e13 BC, 1.7e13 AD]|\n",
    "|`s`|초|±2.9e12 년|[2.9e9 BC, 2.9e9 AD]|\n",
    "|`ms`|밀리초|±2.9e9 년|[2.9e6 BC 2.9e6 AD]|\n",
    "|`us`|마이크로초|±2.9e6 년|[290301 BC, 294241 AD]|\n",
    "|`ns`|나노초|±292 년|[1678 AD, 2262 AD]|\n",
    "|`ps`|피코초|±106 일|[1969 AD, 1970 AD]|\n",
    "|`fs`|펨토초|±2.6 시간|[1969 AD, 1970 AD]|\n",
    "|`as`|아토초|±9.2 ch|[1969 AD, 1970 AD]|"
   ]
  },
  {
   "cell_type": "code",
   "execution_count": 39,
   "metadata": {
    "id": "D8ozvTUf-6Rr"
   },
   "outputs": [
    {
     "data": {
      "text/plain": [
       "array('2021-09-03', dtype='datetime64[D]')"
      ]
     },
     "execution_count": 39,
     "metadata": {},
     "output_type": "execute_result"
    }
   ],
   "source": [
    "date = np.array('2021-09-03', dtype=np.datetime64)\n",
    "date"
   ]
  },
  {
   "cell_type": "code",
   "execution_count": 40,
   "metadata": {
    "id": "XIjLUkn6_K3J"
   },
   "outputs": [
    {
     "data": {
      "text/plain": [
       "array(['2021-09-03', '2021-09-04', '2021-09-05', '2021-09-06',\n",
       "       '2021-09-07', '2021-09-08', '2021-09-09', '2021-09-10',\n",
       "       '2021-09-11', '2021-09-12', '2021-09-13', '2021-09-14'],\n",
       "      dtype='datetime64[D]')"
      ]
     },
     "execution_count": 40,
     "metadata": {},
     "output_type": "execute_result"
    }
   ],
   "source": [
    "date + np.arange(12)"
   ]
  },
  {
   "cell_type": "code",
   "execution_count": 41,
   "metadata": {
    "id": "EO7yE5VR_Wlh"
   },
   "outputs": [
    {
     "data": {
      "text/plain": [
       "numpy.datetime64('2021-09-03T15:00')"
      ]
     },
     "execution_count": 41,
     "metadata": {},
     "output_type": "execute_result"
    }
   ],
   "source": [
    "datetime = np.datetime64('2021-09-03 15:00')\n",
    "datetime"
   ]
  },
  {
   "cell_type": "code",
   "execution_count": 42,
   "metadata": {
    "id": "3dnOlf9i_kzX"
   },
   "outputs": [
    {
     "data": {
      "text/plain": [
       "numpy.datetime64('2021-09-03T15:00:12.340000000')"
      ]
     },
     "execution_count": 42,
     "metadata": {},
     "output_type": "execute_result"
    }
   ],
   "source": [
    "datetime = np.datetime64('2021-09-03 15:00:12.34','ns')\n",
    "datetime"
   ]
  },
  {
   "cell_type": "markdown",
   "metadata": {
    "id": "5AREIamhGxAr"
   },
   "source": [
    "\n",
    "\n",
    "---\n",
    "\n"
   ]
  },
  {
   "cell_type": "markdown",
   "metadata": {
    "id": "d88tkTqbBE5V"
   },
   "source": [
    "## 배열 조회"
   ]
  },
  {
   "cell_type": "markdown",
   "metadata": {
    "id": "vRqwfbjtFnPn"
   },
   "source": [
    "### 배열 속성 정보"
   ]
  },
  {
   "cell_type": "code",
   "execution_count": 43,
   "metadata": {
    "id": "R5Rlcll7GXrM"
   },
   "outputs": [],
   "source": [
    "def array_info(array) :\n",
    "    print(array)\n",
    "    print('ndim : ', array.ndim)\n",
    "    print('shape : ', array.shape)\n",
    "    print('dtype : ', array.dtype)\n",
    "    print('size : ', array.size)\n",
    "    print('itemsize : ', array.itemsize)\n",
    "    print('nbytes : ', array.nbytes)\n",
    "    print('strides : ', array.strides)"
   ]
  },
  {
   "cell_type": "code",
   "execution_count": 44,
   "metadata": {
    "id": "Na59LwA7KXZV"
   },
   "outputs": [
    {
     "name": "stdout",
     "output_type": "stream",
     "text": [
      "[10  2  3  4  5]\n",
      "ndim :  1\n",
      "shape :  (5,)\n",
      "dtype :  int32\n",
      "size :  5\n",
      "itemsize :  4\n",
      "nbytes :  20\n",
      "strides :  (4,)\n"
     ]
    }
   ],
   "source": [
    "array_info(a1)"
   ]
  },
  {
   "cell_type": "code",
   "execution_count": 45,
   "metadata": {
    "id": "Urzr_LsdLah0"
   },
   "outputs": [
    {
     "name": "stdout",
     "output_type": "stream",
     "text": [
      "[[1 2 3]\n",
      " [4 5 6]\n",
      " [7 8 9]]\n",
      "ndim :  2\n",
      "shape :  (3, 3)\n",
      "dtype :  int32\n",
      "size :  9\n",
      "itemsize :  4\n",
      "nbytes :  36\n",
      "strides :  (12, 4)\n"
     ]
    }
   ],
   "source": [
    "array_info(a2)"
   ]
  },
  {
   "cell_type": "markdown",
   "metadata": {
    "id": "LV1WfdBWFqDu"
   },
   "source": [
    "### 인덱싱(Indexing)"
   ]
  },
  {
   "cell_type": "code",
   "execution_count": 49,
   "metadata": {
    "id": "Nyb7eDmGFr5m"
   },
   "outputs": [
    {
     "name": "stdout",
     "output_type": "stream",
     "text": [
      "[10  2  3  4  5]\n",
      "10\n",
      "4\n"
     ]
    }
   ],
   "source": [
    "print(a1)\n",
    "print(a1[0])\n",
    "print(a1[-2])"
   ]
  },
  {
   "cell_type": "code",
   "execution_count": 52,
   "metadata": {
    "id": "uHMNcQW3Kn-h"
   },
   "outputs": [
    {
     "name": "stdout",
     "output_type": "stream",
     "text": [
      "[[1 2 3]\n",
      " [4 5 6]\n",
      " [7 8 9]]\n",
      "1\n",
      "9\n"
     ]
    }
   ],
   "source": [
    "print(a2)\n",
    "print(a2[0,0])\n",
    "print(a2[2,-1])"
   ]
  },
  {
   "cell_type": "markdown",
   "metadata": {
    "id": "uSeXu2y_O4cu"
   },
   "source": [
    "### 슬라이싱(Slicing)"
   ]
  },
  {
   "cell_type": "markdown",
   "metadata": {
    "id": "1hikO_6ZPp5m"
   },
   "source": [
    "* 슬라이싱 구문: `a[start:stop:step]`\n",
    "* 기본값: start=0, stop=ndim, step=1"
   ]
  },
  {
   "cell_type": "code",
   "execution_count": 53,
   "metadata": {
    "id": "PYZOOCoVO7BF"
   },
   "outputs": [
    {
     "name": "stdout",
     "output_type": "stream",
     "text": [
      "[10  2  3  4  5]\n",
      "[10  2]\n",
      "[10  2]\n",
      "[10  3  5]\n"
     ]
    }
   ],
   "source": [
    "print(a1)\n",
    "print(a1[0:2])\n",
    "print(a1[:2])\n",
    "print(a1[::2])"
   ]
  },
  {
   "cell_type": "code",
   "execution_count": 54,
   "metadata": {
    "id": "oULOFrBQWs1G"
   },
   "outputs": [
    {
     "name": "stdout",
     "output_type": "stream",
     "text": [
      "[[1 2 3]\n",
      " [4 5 6]\n",
      " [7 8 9]]\n",
      "[[1 2]\n",
      " [4 5]]\n",
      "[[9 8 7]\n",
      " [6 5 4]\n",
      " [3 2 1]]\n"
     ]
    }
   ],
   "source": [
    "print(a2)\n",
    "print(a2[:2,:2])\n",
    "print(a2[::-1,::-1])"
   ]
  },
  {
   "cell_type": "markdown",
   "metadata": {
    "id": "LD52bXAsBgbH"
   },
   "source": [
    "### 불리언 인덱싱(Boolean Indexing)\n",
    "\n",
    "* 배열 각 요소의 선택 여부를 불리언(True or False)로 지정\n",
    "* True 값인 인덱스의 값만 조회"
   ]
  },
  {
   "cell_type": "code",
   "execution_count": 55,
   "metadata": {
    "id": "pOvNsH2oBgz-"
   },
   "outputs": [
    {
     "name": "stdout",
     "output_type": "stream",
     "text": [
      "[10  2  3  4  5]\n",
      "[2 3 5]\n"
     ]
    }
   ],
   "source": [
    "print(a1)\n",
    "bi = [False, True, True, False, True]\n",
    "print(a1[bi])"
   ]
  },
  {
   "cell_type": "code",
   "execution_count": 56,
   "metadata": {
    "id": "EFfquM2kWHAU"
   },
   "outputs": [
    {
     "name": "stdout",
     "output_type": "stream",
     "text": [
      "[[1 2 3]\n",
      " [4 5 6]\n",
      " [7 8 9]]\n",
      "[[False False  True]\n",
      " [False False  True]\n",
      " [False False False]]\n",
      "[3 6]\n"
     ]
    }
   ],
   "source": [
    "bi = np.random.randint(0, 2, (3, 3), dtype = bool)\n",
    "print(a2)\n",
    "print(bi)\n",
    "print(a2[bi])"
   ]
  },
  {
   "cell_type": "markdown",
   "metadata": {
    "id": "R5hes-hdBujH"
   },
   "source": [
    "### 팬시 인덱싱(Fancy Indedxing)"
   ]
  },
  {
   "cell_type": "code",
   "execution_count": 60,
   "metadata": {
    "id": "z-Luw5fzBx30"
   },
   "outputs": [
    {
     "name": "stdout",
     "output_type": "stream",
     "text": [
      "[10  2  3  4  5]\n",
      "[10, 3]\n",
      "[10  3]\n",
      "[[10  2]\n",
      " [ 3 10]]\n"
     ]
    }
   ],
   "source": [
    "print(a1)\n",
    "print([a1[0], a1[2]])\n",
    "ind = [0,2]\n",
    "print(a1[ind])\n",
    "ind = np.array([[0,1],[2,0]])\n",
    "print(a1[ind])"
   ]
  },
  {
   "cell_type": "code",
   "execution_count": 61,
   "metadata": {},
   "outputs": [
    {
     "name": "stdout",
     "output_type": "stream",
     "text": [
      "[[1 2 3]\n",
      " [4 5 6]\n",
      " [7 8 9]]\n",
      "[2 9]\n"
     ]
    }
   ],
   "source": [
    "print(a2)\n",
    "row,col = np.array([0,2]), np.array([1,2])\n",
    "print(a2[row, col])"
   ]
  },
  {
   "cell_type": "markdown",
   "metadata": {
    "id": "F71_PQF1GvTs"
   },
   "source": [
    "\n",
    "\n",
    "---\n",
    "\n"
   ]
  },
  {
   "cell_type": "markdown",
   "metadata": {
    "id": "zDI5yQ58O-IX"
   },
   "source": [
    "## 배열 값 삽입/수정/삭제/복사"
   ]
  },
  {
   "cell_type": "markdown",
   "metadata": {
    "id": "zajd1qpVOQYy"
   },
   "source": [
    "### 배열 값 삽입\n",
    "\n",
    "* `insert()`: 배열의 특정 위치에 값 삽입\n",
    "* axis를 지정하지 않으면 1차원 배열로 변환\n",
    "* 추가할 방향을 axis로 지정\n",
    "* 원본 배열 변경없이 새로운 배열 반환"
   ]
  },
  {
   "cell_type": "code",
   "execution_count": 65,
   "metadata": {
    "id": "sedRT54rP395"
   },
   "outputs": [
    {
     "name": "stdout",
     "output_type": "stream",
     "text": [
      "[10  2  3  4  5]\n",
      "[10 10  2  3  4  5]\n",
      "[  10    2 1234    3    4    5]\n"
     ]
    }
   ],
   "source": [
    "print(a1)\n",
    "b1 = np.insert(a1, 0, 10)\n",
    "print(b1)\n",
    "c1 = np.insert(a1, 2, 1234)\n",
    "print(c1)"
   ]
  },
  {
   "cell_type": "code",
   "execution_count": 67,
   "metadata": {
    "id": "zNmu1E4iQ6h-"
   },
   "outputs": [
    {
     "name": "stdout",
     "output_type": "stream",
     "text": [
      "[[1 2 3]\n",
      " [4 5 6]\n",
      " [7 8 9]]\n",
      "[[ 1  2  3]\n",
      " [10 10 10]\n",
      " [ 4  5  6]\n",
      " [ 7  8  9]]\n",
      "[[ 1 10  2  3]\n",
      " [ 4 10  5  6]\n",
      " [ 7 10  8  9]]\n"
     ]
    }
   ],
   "source": [
    "print(a2)\n",
    "b2 = np.insert(a2, 1, 10, axis = 0)\n",
    "print(b2)\n",
    "c2 = np.insert(a2, 1, 10, axis = 1)\n",
    "print(c2)"
   ]
  },
  {
   "cell_type": "markdown",
   "metadata": {
    "id": "OlEzG4ffNjyL"
   },
   "source": [
    "### 배열 값 수정\n",
    "\n",
    "* 배열의 인덱싱으로 접근하여 값 수정"
   ]
  },
  {
   "cell_type": "code",
   "execution_count": 70,
   "metadata": {
    "id": "ec43i1KWNjeN"
   },
   "outputs": [
    {
     "name": "stdout",
     "output_type": "stream",
     "text": [
      "[9 9 3 4 5]\n",
      "[ 9 99  3 99 99]\n"
     ]
    }
   ],
   "source": [
    "a1[:2] = 9\n",
    "print(a1)\n",
    "i = np.array([1,3,4])\n",
    "a1[i] = 99\n",
    "print(a1)"
   ]
  },
  {
   "cell_type": "code",
   "execution_count": 71,
   "metadata": {
    "id": "IApNNx3NOMQh"
   },
   "outputs": [
    {
     "name": "stdout",
     "output_type": "stream",
     "text": [
      "[[ 1  2 99]\n",
      " [ 4  5 99]\n",
      " [ 7  8  9]]\n"
     ]
    }
   ],
   "source": [
    "a2[:2, 2] = 99\n",
    "print(a2)"
   ]
  },
  {
   "cell_type": "markdown",
   "metadata": {
    "id": "emV7DgrITPcn"
   },
   "source": [
    "### 배열 값 삭제\n",
    "\n",
    "* `delete()`: 배열의 특정 위치에 값 삭제\n",
    "* axis를 지정하지 않으면 1차원 배열로 변환\n",
    "* 삭제할 방향을 axis로 지정\n",
    "* 원본 배열 변경없이 새로운 배열 반환"
   ]
  },
  {
   "cell_type": "code",
   "execution_count": 73,
   "metadata": {
    "id": "I3k_Yx8lTRJ2"
   },
   "outputs": [
    {
     "name": "stdout",
     "output_type": "stream",
     "text": [
      "[ 9 99  3 99 99]\n",
      "[ 9  3 99 99]\n"
     ]
    }
   ],
   "source": [
    "print(a1)\n",
    "b1 = np.delete(a1,1)\n",
    "print(b1)"
   ]
  },
  {
   "cell_type": "code",
   "execution_count": 74,
   "metadata": {
    "id": "tRTwMIfJTq_y"
   },
   "outputs": [
    {
     "name": "stdout",
     "output_type": "stream",
     "text": [
      "[[ 1  2 99]\n",
      " [ 4  5 99]\n",
      " [ 7  8  9]]\n",
      "[[ 1  2 99]\n",
      " [ 7  8  9]]\n"
     ]
    }
   ],
   "source": [
    "print(a2)\n",
    "b2 = np.delete(a2, 1, axis=0)\n",
    "print(b2)"
   ]
  },
  {
   "cell_type": "markdown",
   "metadata": {
    "id": "UydkYxV8Z6Fx"
   },
   "source": [
    "### 배열 복사\n",
    "\n",
    "* 리스트 자료형과 달리 배열의 슬라이스는 복사본이 아님"
   ]
  },
  {
   "cell_type": "code",
   "execution_count": 78,
   "metadata": {
    "id": "n2_0L8KWZ7wH"
   },
   "outputs": [
    {
     "name": "stdout",
     "output_type": "stream",
     "text": [
      "[[ 1  0 99]\n",
      " [ 4  0 99]\n",
      " [ 7  8  9]]\n",
      "[[1 0]\n",
      " [4 0]]\n",
      "[[1 0]\n",
      " [4 0]]\n",
      "[[1 0]\n",
      " [4 0]]\n",
      "[[ 1  0 99]\n",
      " [ 4  0 99]\n",
      " [ 7  8  9]]\n"
     ]
    }
   ],
   "source": [
    "print(a2)\n",
    "print(a2[:2,:2])\n",
    "a2_sub = a2[:2, :2]\n",
    "print(a2_sub)\n",
    "a2_sub[:,1] = 0\n",
    "print(a2_sub)\n",
    "print(a2)  # 원본 배열도 똑같이 바뀐다는 것 주목"
   ]
  },
  {
   "cell_type": "markdown",
   "metadata": {
    "id": "UrQqOC1Eat5l"
   },
   "source": [
    "\n",
    "* `copy()`: 배열이나 하위 배열 내의 값을 명시적으로 복사"
   ]
  },
  {
   "cell_type": "code",
   "execution_count": 80,
   "metadata": {
    "id": "hLBZ7Qn6bAKO"
   },
   "outputs": [
    {
     "name": "stdout",
     "output_type": "stream",
     "text": [
      "[[ 1  0 99]\n",
      " [ 4  0 99]\n",
      " [ 7  8  9]]\n"
     ]
    }
   ],
   "source": [
    "print(a2)\n",
    "a2_sub_copy = a2[:2,:2].copy()"
   ]
  },
  {
   "cell_type": "markdown",
   "metadata": {
    "id": "4HTc9FXOGtA7"
   },
   "source": [
    "\n",
    "\n",
    "---\n",
    "\n"
   ]
  },
  {
   "cell_type": "markdown",
   "metadata": {
    "id": "XVZY082__yV6"
   },
   "source": [
    "## 배열 변환"
   ]
  },
  {
   "cell_type": "markdown",
   "metadata": {
    "id": "Ec09aPeBO58M"
   },
   "source": [
    "### 배열 전치 및 축 변경"
   ]
  },
  {
   "cell_type": "code",
   "execution_count": 81,
   "metadata": {
    "id": "anYByBpoWZmj"
   },
   "outputs": [
    {
     "name": "stdout",
     "output_type": "stream",
     "text": [
      "[[ 1  0 99]\n",
      " [ 4  0 99]\n",
      " [ 7  8  9]]\n",
      "[[ 1  4  7]\n",
      " [ 0  0  8]\n",
      " [99 99  9]]\n"
     ]
    }
   ],
   "source": [
    "print(a2)\n",
    "print(a2.T)"
   ]
  },
  {
   "cell_type": "code",
   "execution_count": 83,
   "metadata": {
    "id": "6lPwXL8rRTfI"
   },
   "outputs": [
    {
     "name": "stdout",
     "output_type": "stream",
     "text": [
      "[[ 1  0 99]\n",
      " [ 4  0 99]\n",
      " [ 7  8  9]]\n",
      "[[ 1  4  7]\n",
      " [ 0  0  8]\n",
      " [99 99  9]]\n"
     ]
    }
   ],
   "source": [
    "print(a2)\n",
    "print(a2.swapaxes(1,0))"
   ]
  },
  {
   "cell_type": "markdown",
   "metadata": {
    "id": "M7xN8WdOdb_S"
   },
   "source": [
    "### 배열 재구조화\n"
   ]
  },
  {
   "cell_type": "markdown",
   "metadata": {
    "id": "JwZJMpXGfY0V"
   },
   "source": [
    "* `reshape()`: 배열의 형상을 변경"
   ]
  },
  {
   "cell_type": "code",
   "execution_count": 86,
   "metadata": {
    "id": "SlGQ17VQdd8i"
   },
   "outputs": [
    {
     "name": "stdout",
     "output_type": "stream",
     "text": [
      "[1 2 3 4 5 6 7 8 9]\n",
      "[[1 2 3]\n",
      " [4 5 6]\n",
      " [7 8 9]]\n"
     ]
    }
   ],
   "source": [
    "n1 = np.arange(1, 10)\n",
    "print(n1)\n",
    "print(n1.reshape(3, 3))"
   ]
  },
  {
   "cell_type": "markdown",
   "metadata": {
    "id": "y_U1W-fQfuQY"
   },
   "source": [
    "* `newaxis()`: 새로운 축 추가"
   ]
  },
  {
   "cell_type": "code",
   "execution_count": 87,
   "metadata": {
    "id": "COif_weCfkGo"
   },
   "outputs": [
    {
     "name": "stdout",
     "output_type": "stream",
     "text": [
      "[[1 2 3 4 5]]\n",
      "[[1]\n",
      " [2]\n",
      " [3]\n",
      " [4]\n",
      " [5]]\n"
     ]
    }
   ],
   "source": [
    "print(n1[np.newaxis, :5])\n",
    "print(n1[:5, np.newaxis])"
   ]
  },
  {
   "cell_type": "markdown",
   "metadata": {
    "id": "FR82RSDggbcJ"
   },
   "source": [
    "### 배열 크기 변경"
   ]
  },
  {
   "cell_type": "markdown",
   "metadata": {
    "id": "D1LuDMVFl4tc"
   },
   "source": [
    "* 배열 모양만 변경"
   ]
  },
  {
   "cell_type": "code",
   "execution_count": 90,
   "metadata": {
    "id": "7B6pHlfxgdSJ"
   },
   "outputs": [
    {
     "name": "stdout",
     "output_type": "stream",
     "text": [
      "[[7 5 9 1 2]\n",
      " [6 9 9 8 0]]\n",
      "[[7 5]\n",
      " [9 1]\n",
      " [2 6]\n",
      " [9 9]\n",
      " [8 0]]\n"
     ]
    }
   ],
   "source": [
    "n2 = np.random.randint(0, 10, (2, 5))\n",
    "print(n2)\n",
    "n2.resize((5,2))\n",
    "print(n2)"
   ]
  },
  {
   "cell_type": "markdown",
   "metadata": {
    "id": "s0adm-h9l6sv"
   },
   "source": [
    "* 배열 크기 증가\n",
    "* 남은 공간은 0으로 채워짐"
   ]
  },
  {
   "cell_type": "code",
   "execution_count": 94,
   "metadata": {
    "id": "IrX0UcjrlWRV"
   },
   "outputs": [
    {
     "data": {
      "text/plain": [
       "array([[7, 5, 9, 1, 2],\n",
       "       [6, 9, 9, 8, 0],\n",
       "       [0, 0, 0, 0, 0],\n",
       "       [0, 0, 0, 0, 0],\n",
       "       [0, 0, 0, 0, 0]])"
      ]
     },
     "execution_count": 94,
     "metadata": {},
     "output_type": "execute_result"
    }
   ],
   "source": [
    "n2.resize((5, 5))\n",
    "n2"
   ]
  },
  {
   "cell_type": "markdown",
   "metadata": {
    "id": "78hPDEzfl9JB"
   },
   "source": [
    "* 배열 크기 감소\n",
    "* 포함되지 않은 값은 삭제됨"
   ]
  },
  {
   "cell_type": "code",
   "execution_count": 104,
   "metadata": {
    "id": "fJWrwhc6lmjW"
   },
   "outputs": [
    {
     "data": {
      "text/plain": [
       "array([[7, 5, 9],\n",
       "       [1, 2, 6],\n",
       "       [9, 9, 8]])"
      ]
     },
     "execution_count": 104,
     "metadata": {},
     "output_type": "execute_result"
    }
   ],
   "source": [
    "n2.resize((3, 3), refcheck = False)\n",
    "n2"
   ]
  },
  {
   "cell_type": "markdown",
   "metadata": {
    "id": "r9z2gD_pHyx9"
   },
   "source": [
    "### 배열 추가\n",
    "\n",
    "* `append()`: 배열의 끝에 값 추가"
   ]
  },
  {
   "cell_type": "code",
   "execution_count": 105,
   "metadata": {
    "id": "fH4lpQKNH5s1"
   },
   "outputs": [
    {
     "name": "stdout",
     "output_type": "stream",
     "text": [
      "[[1 2 3]\n",
      " [4 5 6]\n",
      " [7 8 9]]\n",
      "[[10 11 12]\n",
      " [13 14 15]\n",
      " [16 17 18]]\n"
     ]
    }
   ],
   "source": [
    "a2 = np.arange(1, 10).reshape(3, 3)\n",
    "print(a2)\n",
    "b2 = np.arange(10, 19).reshape(3, 3)\n",
    "print(b2)"
   ]
  },
  {
   "cell_type": "markdown",
   "metadata": {
    "id": "n8SMl5VVIquk"
   },
   "source": [
    "* axis 지정이 없으면 1차원 배열 형태로 변형되어 결합"
   ]
  },
  {
   "cell_type": "code",
   "execution_count": 106,
   "metadata": {
    "id": "LRltk3yFIVsV"
   },
   "outputs": [
    {
     "name": "stdout",
     "output_type": "stream",
     "text": [
      "[ 1  2  3  4  5  6  7  8  9 10 11 12 13 14 15 16 17 18]\n"
     ]
    }
   ],
   "source": [
    "c2 = np.append(a2, b2)\n",
    "print(c2)"
   ]
  },
  {
   "cell_type": "markdown",
   "metadata": {
    "id": "sVW2UFVZJfpR"
   },
   "source": [
    "* axis를 0으로 지정\n",
    "* shape[0]을 제외한 나머지 shape은 같아야 함"
   ]
  },
  {
   "cell_type": "code",
   "execution_count": 107,
   "metadata": {
    "id": "nwJ4xLOeIbMg"
   },
   "outputs": [
    {
     "name": "stdout",
     "output_type": "stream",
     "text": [
      "[[ 1  2  3]\n",
      " [ 4  5  6]\n",
      " [ 7  8  9]\n",
      " [10 11 12]\n",
      " [13 14 15]\n",
      " [16 17 18]]\n"
     ]
    }
   ],
   "source": [
    "c2 = np.append(a2, b2, axis = 0)\n",
    "print(c2)"
   ]
  },
  {
   "cell_type": "markdown",
   "metadata": {
    "id": "4YXxzygaJmj-"
   },
   "source": [
    "* axis를 1로 지정\n",
    "* shape[1]을 제외한 나머지 shape은 같아야 함"
   ]
  },
  {
   "cell_type": "code",
   "execution_count": 108,
   "metadata": {
    "id": "JYE4_5gAJmYe"
   },
   "outputs": [
    {
     "name": "stdout",
     "output_type": "stream",
     "text": [
      "[[ 1  2  3 10 11 12]\n",
      " [ 4  5  6 13 14 15]\n",
      " [ 7  8  9 16 17 18]]\n"
     ]
    }
   ],
   "source": [
    "c2 = np.append(a2, b2, axis = 1)\n",
    "print(c2)"
   ]
  },
  {
   "cell_type": "markdown",
   "metadata": {
    "id": "9sTza3b2hoe4"
   },
   "source": [
    "### 배열 연결"
   ]
  },
  {
   "cell_type": "markdown",
   "metadata": {
    "id": "TRun2NPYj8Ct"
   },
   "source": [
    "* `concatenate()`: 튜플이나 배열의 리스트를 인수로 사용해 배열 연결"
   ]
  },
  {
   "cell_type": "code",
   "execution_count": 109,
   "metadata": {
    "id": "lmEqdPifhrB_"
   },
   "outputs": [
    {
     "data": {
      "text/plain": [
       "array([1, 3, 5, 2, 4, 6])"
      ]
     },
     "execution_count": 109,
     "metadata": {},
     "output_type": "execute_result"
    }
   ],
   "source": [
    "a1 = np.array([1, 3, 5])\n",
    "b1 = np.array([2, 4, 6])\n",
    "np.concatenate([a1, b1])"
   ]
  },
  {
   "cell_type": "code",
   "execution_count": 110,
   "metadata": {
    "id": "IkoTNIt2k0tp"
   },
   "outputs": [
    {
     "data": {
      "text/plain": [
       "array([1, 3, 5, 2, 4, 6, 7, 8, 9])"
      ]
     },
     "execution_count": 110,
     "metadata": {},
     "output_type": "execute_result"
    }
   ],
   "source": [
    "c1 = np.array([7, 8, 9])\n",
    "np.concatenate([a1, b1, c1])"
   ]
  },
  {
   "cell_type": "code",
   "execution_count": 111,
   "metadata": {
    "id": "vX0SCYX3lEs2"
   },
   "outputs": [
    {
     "data": {
      "text/plain": [
       "array([[1, 2, 3],\n",
       "       [4, 5, 6],\n",
       "       [1, 2, 3],\n",
       "       [4, 5, 6]])"
      ]
     },
     "execution_count": 111,
     "metadata": {},
     "output_type": "execute_result"
    }
   ],
   "source": [
    "a2 = np.array([[1,2,3],[4,5,6]])\n",
    "np.concatenate([a2, a2])"
   ]
  },
  {
   "cell_type": "code",
   "execution_count": 112,
   "metadata": {
    "id": "Rv6xGva7lxHP"
   },
   "outputs": [
    {
     "data": {
      "text/plain": [
       "array([[1, 2, 3, 1, 2, 3],\n",
       "       [4, 5, 6, 4, 5, 6]])"
      ]
     },
     "execution_count": 112,
     "metadata": {},
     "output_type": "execute_result"
    }
   ],
   "source": [
    "a2 = np.array([[1,2,3],[4,5,6]])\n",
    "np.concatenate([a2, a2], axis = 1)"
   ]
  },
  {
   "cell_type": "markdown",
   "metadata": {
    "id": "MbiBbx4nl2KD"
   },
   "source": [
    "* `vstack()`: 수직 스택(vertical stack), 1차원으로 연결"
   ]
  },
  {
   "cell_type": "code",
   "execution_count": 113,
   "metadata": {
    "id": "HkHJwdBMl_qi"
   },
   "outputs": [
    {
     "data": {
      "text/plain": [
       "array([[1, 2, 3],\n",
       "       [4, 5, 6],\n",
       "       [1, 2, 3],\n",
       "       [4, 5, 6]])"
      ]
     },
     "execution_count": 113,
     "metadata": {},
     "output_type": "execute_result"
    }
   ],
   "source": [
    "np.vstack([a2, a2])"
   ]
  },
  {
   "cell_type": "markdown",
   "metadata": {
    "id": "-hTlAnWxmHA_"
   },
   "source": [
    "* `hstack()`: 수평 스택(horizontal stack), 2차원으로 연결"
   ]
  },
  {
   "cell_type": "code",
   "execution_count": 114,
   "metadata": {
    "id": "-HsGlAytmNEz"
   },
   "outputs": [
    {
     "data": {
      "text/plain": [
       "array([[1, 2, 3, 1, 2, 3],\n",
       "       [4, 5, 6, 4, 5, 6]])"
      ]
     },
     "execution_count": 114,
     "metadata": {},
     "output_type": "execute_result"
    }
   ],
   "source": [
    "np.hstack([a2, a2])"
   ]
  },
  {
   "cell_type": "markdown",
   "metadata": {
    "id": "CshM6LURmUhV"
   },
   "source": [
    "* `dstack()`: 깊이 스택(depth stack), 3차원으로 연결"
   ]
  },
  {
   "cell_type": "code",
   "execution_count": 115,
   "metadata": {
    "id": "TFBdRddpmU4m"
   },
   "outputs": [
    {
     "data": {
      "text/plain": [
       "array([[[1, 1],\n",
       "        [2, 2],\n",
       "        [3, 3]],\n",
       "\n",
       "       [[4, 4],\n",
       "        [5, 5],\n",
       "        [6, 6]]])"
      ]
     },
     "execution_count": 115,
     "metadata": {},
     "output_type": "execute_result"
    }
   ],
   "source": [
    "np.dstack([a2, a2])"
   ]
  },
  {
   "cell_type": "markdown",
   "metadata": {
    "id": "JUBtc4UnpaSz"
   },
   "source": [
    "* `stack()`: 새로운 차원으로 연결"
   ]
  },
  {
   "cell_type": "code",
   "execution_count": 116,
   "metadata": {
    "id": "JzoujQ9_pHS5"
   },
   "outputs": [
    {
     "data": {
      "text/plain": [
       "array([[[1, 2, 3],\n",
       "        [4, 5, 6]],\n",
       "\n",
       "       [[1, 2, 3],\n",
       "        [4, 5, 6]]])"
      ]
     },
     "execution_count": 116,
     "metadata": {},
     "output_type": "execute_result"
    }
   ],
   "source": [
    "np.stack([a2, a2])"
   ]
  },
  {
   "cell_type": "markdown",
   "metadata": {
    "id": "eYz74NYKo8iH"
   },
   "source": [
    "### 배열 분할"
   ]
  },
  {
   "cell_type": "markdown",
   "metadata": {
    "id": "wjt2zku5pBmF"
   },
   "source": [
    "* `split()`: 배열 분할"
   ]
  },
  {
   "cell_type": "code",
   "execution_count": 121,
   "metadata": {
    "id": "H_2e71heo-Eq"
   },
   "outputs": [
    {
     "name": "stdout",
     "output_type": "stream",
     "text": [
      "[0 1 2 3 4 5 6 7 8 9]\n",
      "[0 1 2 3 4] [5 6 7 8 9]\n",
      "[0 1] [2 3] [4 5] [6 7] [8 9]\n"
     ]
    }
   ],
   "source": [
    "a1 = np.arange(0, 10)\n",
    "print(a1)\n",
    "b1, c1 = np.split(a1, [5])\n",
    "print(b1, c1)\n",
    "b1, c1, d1, e1, f1 = np.split(a1, [2,4,6,8])\n",
    "print(b1, c1, d1, e1, f1)"
   ]
  },
  {
   "cell_type": "markdown",
   "metadata": {
    "id": "IvvdCQcKsCLn"
   },
   "source": [
    "* `vsplit()`: 수직 분할, 1차원으로 분할"
   ]
  },
  {
   "cell_type": "code",
   "execution_count": 124,
   "metadata": {
    "id": "GdMYlsiLsCoe"
   },
   "outputs": [
    {
     "name": "stdout",
     "output_type": "stream",
     "text": [
      "[[1 2 3]\n",
      " [4 5 6]\n",
      " [7 8 9]]\n",
      "[[1 2 3]\n",
      " [4 5 6]] \n",
      "\n",
      " [[7 8 9]]\n"
     ]
    }
   ],
   "source": [
    "a2 = np.arange(1, 10).reshape(3, 3)\n",
    "print(a2)\n",
    "b2, c2 = np.vsplit(a2, [2])\n",
    "print(b2,'\\n\\n', c2)"
   ]
  },
  {
   "cell_type": "markdown",
   "metadata": {
    "id": "1aC0a034rSXi"
   },
   "source": [
    "* `hsplit()`: 수평 분할, 2차원으로 분할"
   ]
  },
  {
   "cell_type": "code",
   "execution_count": 125,
   "metadata": {
    "id": "ShMnE_bnrSBJ"
   },
   "outputs": [
    {
     "name": "stdout",
     "output_type": "stream",
     "text": [
      "[[1 2 3]\n",
      " [4 5 6]\n",
      " [7 8 9]]\n",
      "[[1 2]\n",
      " [4 5]\n",
      " [7 8]] \n",
      "\n",
      " [[3]\n",
      " [6]\n",
      " [9]]\n"
     ]
    }
   ],
   "source": [
    "a2 = np.arange(1, 10).reshape(3, 3)\n",
    "print(a2)\n",
    "b2, c2 = np.hsplit(a2, [2])\n",
    "print(b2,'\\n\\n', c2)"
   ]
  },
  {
   "cell_type": "markdown",
   "metadata": {
    "id": "Pz3BDD8qsQER"
   },
   "source": [
    "* `dsplit()`: 깊이 분할, 3차원으로 분할"
   ]
  },
  {
   "cell_type": "code",
   "execution_count": 126,
   "metadata": {
    "id": "DqHFGd43sQYj"
   },
   "outputs": [
    {
     "name": "stdout",
     "output_type": "stream",
     "text": [
      "[[[ 1  2  3]\n",
      "  [ 4  5  6]\n",
      "  [ 7  8  9]]\n",
      "\n",
      " [[10 11 12]\n",
      "  [13 14 15]\n",
      "  [16 17 18]]\n",
      "\n",
      " [[19 20 21]\n",
      "  [22 23 24]\n",
      "  [25 26 27]]]\n",
      "[[[ 1  2]\n",
      "  [ 4  5]\n",
      "  [ 7  8]]\n",
      "\n",
      " [[10 11]\n",
      "  [13 14]\n",
      "  [16 17]]\n",
      "\n",
      " [[19 20]\n",
      "  [22 23]\n",
      "  [25 26]]] \n",
      "\n",
      " [[[ 3]\n",
      "  [ 6]\n",
      "  [ 9]]\n",
      "\n",
      " [[12]\n",
      "  [15]\n",
      "  [18]]\n",
      "\n",
      " [[21]\n",
      "  [24]\n",
      "  [27]]]\n"
     ]
    }
   ],
   "source": [
    "a3 = np.arange(1, 28).reshape(3, 3, 3)\n",
    "print(a3)\n",
    "b3, c3 = np.dsplit(a3, [2])\n",
    "print(b3,'\\n\\n', c3)"
   ]
  },
  {
   "cell_type": "markdown",
   "metadata": {
    "id": "rK-zrDZuGoVd"
   },
   "source": [
    "\n",
    "\n",
    "---\n",
    "\n"
   ]
  },
  {
   "cell_type": "markdown",
   "metadata": {
    "id": "Vc-iSWewJ3C1"
   },
   "source": [
    "## 배열 연산\n",
    "\n",
    "* NumPy의 배열 연산은 벡터화(vectorized) 연산을 사용\n",
    "* 일반적으로 NumPy의 범용 함수(universal functions)를 통해 구현\n",
    "* 배열 요소에 대한 반복적인 계산을 효율적으로 수행"
   ]
  },
  {
   "cell_type": "markdown",
   "metadata": {
    "id": "Pg2er1A2w3cz"
   },
   "source": [
    "### 브로드캐스팅(Broadcasting)"
   ]
  },
  {
   "cell_type": "code",
   "execution_count": 135,
   "metadata": {
    "id": "IGU-HRgr20nj"
   },
   "outputs": [
    {
     "name": "stdout",
     "output_type": "stream",
     "text": [
      "[6 7 8]\n",
      "\n",
      " [[1 2 3]\n",
      " [4 5 6]\n",
      " [7 8 9]]\n",
      "\n",
      " [[ 2  4  6]\n",
      " [ 5  7  9]\n",
      " [ 8 10 12]]\n",
      "\n",
      " [[2 3 4]\n",
      " [3 4 5]\n",
      " [4 5 6]]\n"
     ]
    }
   ],
   "source": [
    "a1 = np.array([1,2,3])\n",
    "print(a1 + 5)\n",
    "a2 = np.arange(1,10).reshape(3, 3)\n",
    "print('\\n',a2)\n",
    "print('\\n',a1 + a2)\n",
    "b2 = np.array([1,2,3]).reshape(3, 1)\n",
    "print('\\n',a1+ b2)"
   ]
  },
  {
   "cell_type": "markdown",
   "metadata": {
    "id": "NZzLHHLmwl_b"
   },
   "source": [
    "### 산술 연산(Arithmetic Operators)"
   ]
  },
  {
   "cell_type": "markdown",
   "metadata": {},
   "source": [
    "|연산자|범용 함수|설명|\n",
    "|----|-----------|--------|\n",
    "|`+`|`np.add`|덧셈|\n",
    "|`-`|`np.subtract`|뺄셈|\n",
    "|`-`|`np.negative`|단항 음수|\n",
    "|`*`|`np.multiply`|곱셈|\n",
    "|`/`|`np.divide`|나눗셈|\n",
    "|`//`|`np.floor_divide`|나눗셈 내림|\n",
    "|`**`|`np.power`|지수 연산|\n",
    "|`%`|`np.mod`|나머지 연산|"
   ]
  },
  {
   "cell_type": "code",
   "execution_count": 139,
   "metadata": {
    "id": "jHrIjHGEi05k"
   },
   "outputs": [
    {
     "name": "stdout",
     "output_type": "stream",
     "text": [
      "[11 12 13 14 15 16 17 18 19]\n",
      "[ 1  4  9 16 25 36 49 64 81]\n"
     ]
    }
   ],
   "source": [
    "a1 = np.arange(1, 10)\n",
    "print(np.add(a1, 10))\n",
    "print(np.power(a1, 2))"
   ]
  },
  {
   "cell_type": "markdown",
   "metadata": {
    "id": "hxG_aECas3a9"
   },
   "source": [
    "#### 절대값 함수(Absolute Function)\n",
    "\n",
    "* `absolute()`, `abs()`: 내장된 절대값 함수"
   ]
  },
  {
   "cell_type": "code",
   "execution_count": 141,
   "metadata": {
    "id": "YmX-0LvWs7qM"
   },
   "outputs": [
    {
     "name": "stdout",
     "output_type": "stream",
     "text": [
      "[-9  4  6 -3  7]\n",
      "[9 4 6 3 7]\n"
     ]
    }
   ],
   "source": [
    "a1 = np.random.randint(-10, 10, size = 5)\n",
    "print(a1)\n",
    "print(np.abs(a1))"
   ]
  },
  {
   "cell_type": "markdown",
   "metadata": {
    "id": "U5uE3sVtzRvA"
   },
   "source": [
    "#### 제곱/제곱근 함수\n",
    "\n",
    "* `square`, `sqrt`: 제곱, 제곱근 함수"
   ]
  },
  {
   "cell_type": "code",
   "execution_count": 143,
   "metadata": {
    "id": "ggnIxDGzzTfX"
   },
   "outputs": [
    {
     "name": "stdout",
     "output_type": "stream",
     "text": [
      "[-9  4  6 -3  7]\n",
      "[81 16 36  9 49]\n",
      "[3.         2.         2.44948974 1.73205081 2.64575131]\n"
     ]
    }
   ],
   "source": [
    "print(a1)\n",
    "print(np.square(a1))\n",
    "print(np.sqrt(abs(a1)))"
   ]
  },
  {
   "cell_type": "markdown",
   "metadata": {
    "id": "tWh1aQ50vRhB"
   },
   "source": [
    "#### 지수와 로그 함수 (Exponential and Log Function)"
   ]
  },
  {
   "cell_type": "code",
   "execution_count": 144,
   "metadata": {
    "id": "Dygt3AyHvTZz"
   },
   "outputs": [
    {
     "name": "stdout",
     "output_type": "stream",
     "text": [
      "[9 4 9 7 5]\n",
      "[8103.08392758   54.59815003 8103.08392758 1096.63315843  148.4131591 ]\n",
      "[512.  16. 512. 128.  32.]\n"
     ]
    }
   ],
   "source": [
    "a1 = np.random.randint(1, 10, size = 5)\n",
    "print(a1)\n",
    "print(np.exp(a1))\n",
    "print(np.exp2(a1))"
   ]
  },
  {
   "cell_type": "code",
   "execution_count": 145,
   "metadata": {
    "id": "YB0BzwxDvnkT"
   },
   "outputs": [
    {
     "name": "stdout",
     "output_type": "stream",
     "text": [
      "[2.19722458 1.38629436 2.19722458 1.94591015 1.60943791]\n",
      "[3.169925   2.         3.169925   2.80735492 2.32192809]\n"
     ]
    }
   ],
   "source": [
    "print(np.log(a1))\n",
    "print(np.log2(a1))"
   ]
  },
  {
   "cell_type": "markdown",
   "metadata": {
    "id": "wE_p9AxjtdJ9"
   },
   "source": [
    "#### 삼각 함수(Trigonometrical Function)\n"
   ]
  },
  {
   "cell_type": "markdown",
   "metadata": {},
   "source": [
    "|함수|설명|\n",
    "|--------|----------------------|\n",
    "|np.sin(array)|사인|\n",
    "|np.cos()|코사인|\n",
    "|np.tan()|탄젠트|\n",
    "|np.arcsin()|아크 사인|\n",
    "|np.arccos()|아크 코사인|\n",
    "|np.arctan()|아크 탄젠트\n",
    "|np.arctan2(1,2)|아크 탄젠드 1 / 2|\n",
    "|np.sinh()|하이퍼볼릭 사인|\n",
    "|np.cosh()|하이퍼볼릭 코사인|\n",
    "|np.tanh()|하이퍼볼릭 탄젠트|\n",
    "|np.arcsinh()|하이퍼볼릭 아크 사인|\n",
    "|np.arccosh()|하이퍼볼릭 아크 코사인|\n",
    "|np.arctanh()|하이퍼볼릭 아크 탄젠트|\n",
    "|np.deg2rad()|각도에서 라디안 변환|\n",
    "|np.rad2deg()|라디안에서 각도 변환|\n",
    "|np.hypot(1,2)|유클리드 거리 계산|"
   ]
  },
  {
   "cell_type": "code",
   "execution_count": 147,
   "metadata": {
    "id": "6bOSPS81tuo5"
   },
   "outputs": [
    {
     "name": "stdout",
     "output_type": "stream",
     "text": [
      "[0.         1.57079633 3.14159265]\n",
      "[ 0.00000000e+00  1.63312394e+16 -1.22464680e-16]\n"
     ]
    }
   ],
   "source": [
    "t = np.linspace(0, np.pi, 3)\n",
    "print(t)\n",
    "print(np.tan(t))"
   ]
  },
  {
   "cell_type": "code",
   "execution_count": 149,
   "metadata": {
    "id": "v7m-AQW9uJ9u"
   },
   "outputs": [
    {
     "name": "stdout",
     "output_type": "stream",
     "text": [
      "[-1, 0, 1]\n",
      "[3.14159265 1.57079633 0.        ]\n"
     ]
    }
   ],
   "source": [
    "x = [-1, 0, 1]\n",
    "print(x)\n",
    "print(np.arccos(x))"
   ]
  },
  {
   "cell_type": "markdown",
   "metadata": {
    "id": "hKJtYUVWwxQy"
   },
   "source": [
    "### 집계 함수(Aggregate Functions)"
   ]
  },
  {
   "cell_type": "markdown",
   "metadata": {},
   "source": [
    "|함수|NaN 안전 모드|설명\n",
    "|---|-----|-------------------|\n",
    "|`np.sum`|`np.nansum`|합 계산|\n",
    "|`np.cumsum`|`np.nancumsum`|누적 합|\n",
    "|`np.diff`|N/A|차분|\n",
    "|`np.prod`|`np.nanprod`|곱 계산|\n",
    "|`np.cumprod`|`np.nancumprod`|누적 곱|\n",
    "|`np.dot`|N/A|점 곱(dot product)|\n",
    "|`np.matmul`|N/A|행렬 곱|\n",
    "|`np.tensordot`|N/A|텐서 곱(tensor product)|\n",
    "|`np.cross`|N/A|벡터 곱(cross product)|\n",
    "|`np.inner`|N/A|내적(inner product)|\n",
    "|`np.outer`|N/A|외적(outer product)|\n",
    "|`np.mean`|`np.nanmean`|평균|\n",
    "|`np.std`|`np.nanstd`|표준 편차|\n",
    "|`np.var`|`np.nanvar`|분산|\n",
    "|`np.min`|`np.nanmin`|최소값|\n",
    "|`np.max`|`np.nanmax`|최대값|\n",
    "|`np.argmin`|`np.nanargmin`|최소값 인덱스|\n",
    "|`np.argmax`|`np.nanargmax`|최대값 인덱스|\n",
    "|`np.median`|`np.nanmedian`|중앙값|\n",
    "|`np.percentile`|`np.nanpercentile`|순위 기반 백분위 수 계산|\n",
    "|`np.any`|N/A|참이 있는지 평가|\n",
    "|`np.all`|N/A|모든 요소가 참인지 평가|"
   ]
  },
  {
   "cell_type": "markdown",
   "metadata": {
    "id": "GdxMrX5l9m6W"
   },
   "source": [
    "#### sum(): 합 계산"
   ]
  },
  {
   "cell_type": "code",
   "execution_count": 152,
   "metadata": {
    "id": "AJQ3GjLI0cZU"
   },
   "outputs": [
    {
     "name": "stdout",
     "output_type": "stream",
     "text": [
      "[[3 9 3]\n",
      " [6 1 3]\n",
      " [7 9 5]]\n",
      "46 46\n",
      "[16 19 11]\n",
      "[15 10 21]\n"
     ]
    }
   ],
   "source": [
    "a2 = np.random.randint(1, 10, size=(3, 3))\n",
    "print(a2)\n",
    "print(a2.sum(), np.sum(a2))\n",
    "print(np.sum(a2, axis = 0))\n",
    "print(a2.sum(axis = 1))"
   ]
  },
  {
   "cell_type": "markdown",
   "metadata": {
    "id": "U4W4iIb9J4Zd"
   },
   "source": [
    "#### cumsum(): 누적합 계산"
   ]
  },
  {
   "cell_type": "code",
   "execution_count": 154,
   "metadata": {
    "id": "SRZWZD3UJ4wo"
   },
   "outputs": [
    {
     "name": "stdout",
     "output_type": "stream",
     "text": [
      "[ 2  6 12 21 26 34 37 44 50] [ 2  6 12 21 26 34 37 44 50]\n",
      "[[ 2  4  6]\n",
      " [11  9 14]\n",
      " [14 16 20]]\n",
      "[[ 2  6 12]\n",
      " [ 9 14 22]\n",
      " [ 3 10 16]]\n"
     ]
    }
   ],
   "source": [
    "print(a2.cumsum(), np.cumsum(a2))\n",
    "print(np.cumsum(a2, axis = 0))\n",
    "print(a2.cumsum(axis = 1))"
   ]
  },
  {
   "cell_type": "markdown",
   "metadata": {
    "id": "pVaJRWQ-LV0f"
   },
   "source": [
    "#### diff(): 차분 계산"
   ]
  },
  {
   "cell_type": "code",
   "execution_count": 156,
   "metadata": {
    "id": "yKjnWtGVLWJj"
   },
   "outputs": [
    {
     "name": "stdout",
     "output_type": "stream",
     "text": [
      "[[ 2  2]\n",
      " [-4  3]\n",
      " [ 4 -1]]\n",
      "[[ 7  1  2]\n",
      " [-6  2 -2]]\n",
      "[[ 2  2]\n",
      " [-4  3]\n",
      " [ 4 -1]]\n"
     ]
    }
   ],
   "source": [
    "print(np.diff(a2))\n",
    "print(np.diff(a2, axis = 0))\n",
    "print(np.diff(a2, axis = 1))"
   ]
  },
  {
   "cell_type": "markdown",
   "metadata": {
    "id": "b6I38HfA9vGL"
   },
   "source": [
    "#### prod(): 곱 계산"
   ]
  },
  {
   "cell_type": "code",
   "execution_count": 157,
   "metadata": {
    "id": "rGPMXGe89y0O"
   },
   "outputs": [
    {
     "name": "stdout",
     "output_type": "stream",
     "text": [
      "2177280\n",
      "[ 54 140 288]\n",
      "[ 48 360 126]\n"
     ]
    }
   ],
   "source": [
    "print(np.prod(a2))\n",
    "print(np.prod(a2, axis = 0))\n",
    "print(np.prod(a2, axis = 1))"
   ]
  },
  {
   "cell_type": "markdown",
   "metadata": {
    "id": "RwaoVUGcKkkE"
   },
   "source": [
    "#### cumprod(): 누적곱 계산"
   ]
  },
  {
   "cell_type": "code",
   "execution_count": 160,
   "metadata": {
    "id": "jwYoX9inKk4D"
   },
   "outputs": [
    {
     "name": "stdout",
     "output_type": "stream",
     "text": [
      "[      2       8      48     432    2160   17280   51840  362880 2177280]\n",
      "[[  2   4   6]\n",
      " [ 18  20  48]\n",
      " [ 54 140 288]]\n",
      "[[  2   8  48]\n",
      " [  9  45 360]\n",
      " [  3  21 126]]\n"
     ]
    }
   ],
   "source": [
    "print(np.cumprod(a2))\n",
    "print(np.cumprod(a2, axis = 0))\n",
    "print(np.cumprod(a2, axis = 1))"
   ]
  },
  {
   "cell_type": "markdown",
   "metadata": {
    "id": "_LMAbL9hMV7T"
   },
   "source": [
    "#### dot()/matmul(): 점곱/행렬곱 계산"
   ]
  },
  {
   "cell_type": "code",
   "execution_count": 161,
   "metadata": {
    "id": "xC6FBzF0MWW1"
   },
   "outputs": [
    {
     "name": "stdout",
     "output_type": "stream",
     "text": [
      "[[1 1 1]\n",
      " [1 1 1]\n",
      " [1 1 1]]\n",
      "[[12 12 12]\n",
      " [22 22 22]\n",
      " [16 16 16]]\n",
      "[[12 12 12]\n",
      " [22 22 22]\n",
      " [16 16 16]]\n"
     ]
    }
   ],
   "source": [
    "b2 = np.ones_like(a2)\n",
    "print(b2)\n",
    "print(np.dot(a2,b2))\n",
    "print(np.matmul(a2,b2))"
   ]
  },
  {
   "cell_type": "markdown",
   "metadata": {
    "id": "juVk3vnjPu31"
   },
   "source": [
    "#### tensordot(): 텐서곱 계산"
   ]
  },
  {
   "cell_type": "code",
   "execution_count": 165,
   "metadata": {
    "id": "3LrcLOcjPvNI"
   },
   "outputs": [
    {
     "name": "stdout",
     "output_type": "stream",
     "text": [
      "[[2 4 6]\n",
      " [9 5 8]\n",
      " [3 7 6]] \n",
      "\n",
      " [[1 1 1]\n",
      " [1 1 1]\n",
      " [1 1 1]]\n",
      "50\n",
      "[[[[2 2 2]\n",
      "   [2 2 2]\n",
      "   [2 2 2]]\n",
      "\n",
      "  [[4 4 4]\n",
      "   [4 4 4]\n",
      "   [4 4 4]]\n",
      "\n",
      "  [[6 6 6]\n",
      "   [6 6 6]\n",
      "   [6 6 6]]]\n",
      "\n",
      "\n",
      " [[[9 9 9]\n",
      "   [9 9 9]\n",
      "   [9 9 9]]\n",
      "\n",
      "  [[5 5 5]\n",
      "   [5 5 5]\n",
      "   [5 5 5]]\n",
      "\n",
      "  [[8 8 8]\n",
      "   [8 8 8]\n",
      "   [8 8 8]]]\n",
      "\n",
      "\n",
      " [[[3 3 3]\n",
      "   [3 3 3]\n",
      "   [3 3 3]]\n",
      "\n",
      "  [[7 7 7]\n",
      "   [7 7 7]\n",
      "   [7 7 7]]\n",
      "\n",
      "  [[6 6 6]\n",
      "   [6 6 6]\n",
      "   [6 6 6]]]]\n"
     ]
    }
   ],
   "source": [
    "print(a2,'\\n\\n', b2)\n",
    "print(np.tensordot(a2, b2))\n",
    "print(np.tensordot(a2, b2, axes = 0))"
   ]
  },
  {
   "cell_type": "markdown",
   "metadata": {
    "id": "UzmZhB5TNRMX"
   },
   "source": [
    "#### cross(): 벡터곱"
   ]
  },
  {
   "cell_type": "code",
   "execution_count": 166,
   "metadata": {
    "id": "xvT2hy1FNRkU"
   },
   "outputs": [
    {
     "name": "stdout",
     "output_type": "stream",
     "text": [
      "[-3  6 -3]\n"
     ]
    }
   ],
   "source": [
    "x, y = [1, 2, 3], [4, 5, 6]\n",
    "print(np.cross(x, y))"
   ]
  },
  {
   "cell_type": "markdown",
   "metadata": {
    "id": "SJVYmtrSO5YL"
   },
   "source": [
    "#### inner()/outer(): 내적/외적"
   ]
  },
  {
   "cell_type": "code",
   "execution_count": 167,
   "metadata": {
    "id": "HJpomax7O5s6"
   },
   "outputs": [
    {
     "name": "stdout",
     "output_type": "stream",
     "text": [
      "[[12 12 12]\n",
      " [22 22 22]\n",
      " [16 16 16]]\n",
      "[[2 2 2 2 2 2 2 2 2]\n",
      " [4 4 4 4 4 4 4 4 4]\n",
      " [6 6 6 6 6 6 6 6 6]\n",
      " [9 9 9 9 9 9 9 9 9]\n",
      " [5 5 5 5 5 5 5 5 5]\n",
      " [8 8 8 8 8 8 8 8 8]\n",
      " [3 3 3 3 3 3 3 3 3]\n",
      " [7 7 7 7 7 7 7 7 7]\n",
      " [6 6 6 6 6 6 6 6 6]]\n"
     ]
    }
   ],
   "source": [
    "print(np.inner(a2, b2))\n",
    "print(np.outer(a2, b2))"
   ]
  },
  {
   "cell_type": "markdown",
   "metadata": {
    "id": "9CIotQgI_RQ-"
   },
   "source": [
    "#### mean(): 평균 계산"
   ]
  },
  {
   "cell_type": "code",
   "execution_count": 169,
   "metadata": {
    "id": "g96wAEOT_bUk"
   },
   "outputs": [
    {
     "name": "stdout",
     "output_type": "stream",
     "text": [
      "5.555555555555555\n"
     ]
    }
   ],
   "source": [
    "print(np.mean(a2))"
   ]
  },
  {
   "cell_type": "markdown",
   "metadata": {
    "id": "wAG_zijP_Z5o"
   },
   "source": [
    "#### std(): 표준 편차 계산"
   ]
  },
  {
   "cell_type": "code",
   "execution_count": 170,
   "metadata": {
    "id": "hlpnuyug_TXA"
   },
   "outputs": [
    {
     "data": {
      "text/plain": [
       "2.1659542988464366"
      ]
     },
     "execution_count": 170,
     "metadata": {},
     "output_type": "execute_result"
    }
   ],
   "source": [
    "np.std(a2)"
   ]
  },
  {
   "cell_type": "markdown",
   "metadata": {
    "id": "5FFTCCDaAEhx"
   },
   "source": [
    "#### var(): 분산 계산"
   ]
  },
  {
   "cell_type": "code",
   "execution_count": 171,
   "metadata": {
    "id": "CRMNkSdzAGZG"
   },
   "outputs": [
    {
     "data": {
      "text/plain": [
       "4.691358024691358"
      ]
     },
     "execution_count": 171,
     "metadata": {},
     "output_type": "execute_result"
    }
   ],
   "source": [
    "np.var(a2)"
   ]
  },
  {
   "cell_type": "markdown",
   "metadata": {
    "id": "QFeh-4tmCCrU"
   },
   "source": [
    "#### min(): 최소값"
   ]
  },
  {
   "cell_type": "code",
   "execution_count": 172,
   "metadata": {
    "id": "SMNCfYBQCEtf"
   },
   "outputs": [
    {
     "data": {
      "text/plain": [
       "2"
      ]
     },
     "execution_count": 172,
     "metadata": {},
     "output_type": "execute_result"
    }
   ],
   "source": [
    "np.min(a2)"
   ]
  },
  {
   "cell_type": "markdown",
   "metadata": {
    "id": "A3n_JBnBJ2bo"
   },
   "source": [
    "#### max(): 최대값"
   ]
  },
  {
   "cell_type": "code",
   "execution_count": 173,
   "metadata": {
    "id": "FmuOFKGAJ6Pf"
   },
   "outputs": [
    {
     "data": {
      "text/plain": [
       "9"
      ]
     },
     "execution_count": 173,
     "metadata": {},
     "output_type": "execute_result"
    }
   ],
   "source": [
    "np.max(a2)"
   ]
  },
  {
   "cell_type": "markdown",
   "metadata": {
    "id": "PvGOKDP0J_5b"
   },
   "source": [
    "#### argmin(): 최소값 인덱스"
   ]
  },
  {
   "cell_type": "code",
   "execution_count": 174,
   "metadata": {
    "id": "1ILP7L3yKCqA"
   },
   "outputs": [
    {
     "data": {
      "text/plain": [
       "0"
      ]
     },
     "execution_count": 174,
     "metadata": {},
     "output_type": "execute_result"
    }
   ],
   "source": [
    "np.argmin(a2)"
   ]
  },
  {
   "cell_type": "markdown",
   "metadata": {
    "id": "23IcSctIKbUa"
   },
   "source": [
    "#### argmax(): 최대값 인덱스"
   ]
  },
  {
   "cell_type": "code",
   "execution_count": 175,
   "metadata": {
    "id": "2m21cfCFKd-Q"
   },
   "outputs": [
    {
     "data": {
      "text/plain": [
       "3"
      ]
     },
     "execution_count": 175,
     "metadata": {},
     "output_type": "execute_result"
    }
   ],
   "source": [
    "np.argmax(a2)"
   ]
  },
  {
   "cell_type": "markdown",
   "metadata": {
    "id": "3TjeNFQLKuZb"
   },
   "source": [
    "#### median(): 중앙값"
   ]
  },
  {
   "cell_type": "code",
   "execution_count": 176,
   "metadata": {
    "id": "kSLN17bpKwv6"
   },
   "outputs": [
    {
     "data": {
      "text/plain": [
       "6.0"
      ]
     },
     "execution_count": 176,
     "metadata": {},
     "output_type": "execute_result"
    }
   ],
   "source": [
    "np.median(a2)"
   ]
  },
  {
   "cell_type": "markdown",
   "metadata": {
    "id": "df-Id-nhLs3L"
   },
   "source": [
    "#### percentile(): 백분위 수\n",
    "\n"
   ]
  },
  {
   "attachments": {
    "%EC%BA%A1%EC%B2%98.PNG": {
     "image/png": "[encoded data removed]"
    }
   },
   "cell_type": "markdown",
   "metadata": {},
   "source": [
    "![%EC%BA%A1%EC%B2%98.PNG](attachment:%EC%BA%A1%EC%B2%98.PNG)"
   ]
  },
  {
   "cell_type": "code",
   "execution_count": null,
   "metadata": {},
   "outputs": [],
   "source": []
  },
  {
   "cell_type": "code",
   "execution_count": 183,
   "metadata": {
    "id": "N-TCx9hnLvhK"
   },
   "outputs": [
    {
     "name": "stdout",
     "output_type": "stream",
     "text": [
      "[0 1 2 3]\n",
      "[0.  0.6 1.2 1.8 2.4 3. ]\n",
      "[0 1 2 2 3 3]\n",
      "[0 0 1 1 2 3]\n",
      "[0 1 1 2 2 3]\n",
      "[0.  0.5 1.5 1.5 2.5 3. ]\n"
     ]
    }
   ],
   "source": [
    "a1 = np.array([0, 1, 2, 3])\n",
    "print(a1)\n",
    "print(np.percentile(a1, [0, 20, 40, 60, 80, 100], interpolation = 'linear'))\n",
    "print(np.percentile(a1, [0, 20, 40, 60, 80, 100], interpolation = 'higher'))\n",
    "print(np.percentile(a1, [0, 20, 40, 60, 80, 100], interpolation = 'lower'))\n",
    "print(np.percentile(a1, [0, 20, 40, 60, 80, 100], interpolation = 'nearest'))\n",
    "print(np.percentile(a1, [0, 20, 40, 60, 80, 100], interpolation = 'midpoint'))"
   ]
  },
  {
   "cell_type": "markdown",
   "metadata": {
    "id": "x0NnNsvvNDIs"
   },
   "source": [
    "#### any()"
   ]
  },
  {
   "cell_type": "code",
   "execution_count": 190,
   "metadata": {
    "id": "I1XDqsFxOMvA"
   },
   "outputs": [
    {
     "name": "stdout",
     "output_type": "stream",
     "text": [
      "[[False False  True]\n",
      " [False  True  True]\n",
      " [False  True  True]]\n",
      "True\n",
      "[ True  True  True]\n"
     ]
    }
   ],
   "source": [
    "a2 = np.array([[False,False,True],\n",
    "              [False, True, True],\n",
    "              [False, True, True]])\n",
    "print(a2)\n",
    "print(np.any(a2))\n",
    "print(np.any(a2, axis = 1))"
   ]
  },
  {
   "cell_type": "markdown",
   "metadata": {
    "id": "Uw-wjYgyONBZ"
   },
   "source": [
    "#### all()"
   ]
  },
  {
   "cell_type": "code",
   "execution_count": 192,
   "metadata": {
    "id": "sXi2AHOHONYq"
   },
   "outputs": [
    {
     "name": "stdout",
     "output_type": "stream",
     "text": [
      "[[False False  True]\n",
      " [False  True  True]\n",
      " [False  True  True]]\n",
      "False\n",
      "[False False  True]\n"
     ]
    }
   ],
   "source": [
    "print(a2)\n",
    "print(np.all(a2))\n",
    "print(np.all(a2, axis = 0))"
   ]
  },
  {
   "cell_type": "markdown",
   "metadata": {
    "id": "0n7lgzmUwqr1"
   },
   "source": [
    "### 비교 연산(Comparison Operators)\n"
   ]
  },
  {
   "cell_type": "markdown",
   "metadata": {
    "id": "E00V-nBTVnCu"
   },
   "source": [
    "|연산자|비교 범용 함수|\n",
    "|------|---------------|\n",
    "|`==`|`np.equal`|\n",
    "|`!=`|`np.not_equal`|\n",
    "|`<`|`np.less`|\n",
    "|`<=`|`np.less_equal`|\n",
    "|`>`|`np.greater`|\n",
    "|`>=`|`np.greater_equal`|"
   ]
  },
  {
   "cell_type": "code",
   "execution_count": 196,
   "metadata": {
    "id": "3MwV1CU1WsWS"
   },
   "outputs": [
    {
     "name": "stdout",
     "output_type": "stream",
     "text": [
      "[False False False False  True  True  True  True  True]\n"
     ]
    }
   ],
   "source": [
    "a1 = np.arange(1, 10)\n",
    "print(a1 >= 5)"
   ]
  },
  {
   "cell_type": "code",
   "execution_count": 199,
   "metadata": {
    "id": "D4cuMoyEPn8R"
   },
   "outputs": [
    {
     "name": "stdout",
     "output_type": "stream",
     "text": [
      "45\n",
      "4\n",
      "4\n"
     ]
    }
   ],
   "source": [
    "a2 = np.arange(1, 10).reshape(3, 3)\n",
    "print(np.sum(a2))\n",
    "print(np.count_nonzero(a2 > 5))\n",
    "print(np.sum(a2 > 5))"
   ]
  },
  {
   "cell_type": "markdown",
   "metadata": {},
   "source": [
    "|비교 범용 함수|설명|\n",
    "|--------------|-------------------------------|\n",
    "|`np.isclose`|배열 두 개가  (z*1e+02)% 내외로 가까우면 True|\n",
    "|`np.isinf`|배열이 inf 이면 True|\n",
    "|`np.isfinite`|배열이 inf,nan 이면 False|\n",
    "|`np.isnan`|배열이 nan이면 True|"
   ]
  },
  {
   "cell_type": "code",
   "execution_count": 200,
   "metadata": {
    "id": "af9VSc6FyMBh"
   },
   "outputs": [
    {
     "name": "stdout",
     "output_type": "stream",
     "text": [
      "[ True  True  True False False]\n"
     ]
    }
   ],
   "source": [
    "a1 = np.array([1,2,3,4,5])\n",
    "b1 = np.array([1,2,3,3,4])\n",
    "print(np.isclose(a1,b1))"
   ]
  },
  {
   "cell_type": "code",
   "execution_count": 208,
   "metadata": {},
   "outputs": [
    {
     "name": "stdout",
     "output_type": "stream",
     "text": [
      "[ nan   2.  inf   4. -inf]\n",
      "[ True False False False False]\n",
      "[False False  True False  True]\n"
     ]
    }
   ],
   "source": [
    "a1 = np.array([np.nan, 2, np.inf, 4, np.NINF])\n",
    "print(a1)\n",
    "print(np.isnan(a1))\n",
    "print(np.isinf(a1))"
   ]
  },
  {
   "cell_type": "markdown",
   "metadata": {
    "id": "4BHMetMlYmt-"
   },
   "source": [
    "#### 불리언 연산자(Boolean Operators)\n"
   ]
  },
  {
   "cell_type": "markdown",
   "metadata": {},
   "source": [
    "|연산자|비교 범용 함수|\n",
    "|---|----------------|\n",
    "|`&`|`np.bitwise_and`|\n",
    "|`ㅣ`|`np.bitwise_or`|\n",
    "|`^`|`np.bitwise_xor`|\n",
    "|`~`|`np.bitwise_not`|"
   ]
  },
  {
   "cell_type": "code",
   "execution_count": 209,
   "metadata": {
    "id": "ZV1-8DkUHOZq"
   },
   "outputs": [
    {
     "name": "stdout",
     "output_type": "stream",
     "text": [
      "[[False False False]\n",
      " [False False  True]\n",
      " [ True False False]]\n"
     ]
    }
   ],
   "source": [
    "a2 = np.arange(1, 10).reshape(3, 3)\n",
    "print((a2>5) & (a2 < 8))"
   ]
  },
  {
   "cell_type": "markdown",
   "metadata": {
    "id": "FlQJVeGBxIFw"
   },
   "source": [
    "### 배열 정렬"
   ]
  },
  {
   "cell_type": "code",
   "execution_count": 216,
   "metadata": {
    "id": "x0sodUMqLU37"
   },
   "outputs": [
    {
     "name": "stdout",
     "output_type": "stream",
     "text": [
      "[6 5 7 7 8 1 1 7 1 4]\n",
      "[1 1 1 4 5 6 7 7 7 8]\n",
      "[5 6 8 9 1 0 2 3 7 4]\n",
      "[1 1 1 4 5 6 7 7 7 8]\n"
     ]
    }
   ],
   "source": [
    "a1 = np.random.randint(1, 10, size= 10)\n",
    "print(a1)\n",
    "print(np.sort(a1))\n",
    "print(np.argsort(a1))\n",
    "a1.sort()\n",
    "print(a1)"
   ]
  },
  {
   "cell_type": "code",
   "execution_count": 218,
   "metadata": {
    "id": "FO_sO5POzeMp"
   },
   "outputs": [
    {
     "name": "stdout",
     "output_type": "stream",
     "text": [
      "[[8 4 9]\n",
      " [6 2 6]\n",
      " [1 3 6]] \n",
      "\n",
      "\n",
      "[[4 8 9]\n",
      " [2 6 6]\n",
      " [1 3 6]]\n"
     ]
    }
   ],
   "source": [
    "a2 = np.random.randint(1, 10, size=(3, 3))\n",
    "print(a2, '\\n\\n')\n",
    "print(np.sort(a2, axis= 1))"
   ]
  },
  {
   "cell_type": "markdown",
   "metadata": {
    "id": "yYSItPz_00sZ"
   },
   "source": [
    "#### 부분 정렬\n",
    "\n",
    "* `partition()`: 배열에서 k개의 작은 값을 반환"
   ]
  },
  {
   "cell_type": "code",
   "execution_count": 219,
   "metadata": {
    "id": "QQwov4N00YFP"
   },
   "outputs": [
    {
     "name": "stdout",
     "output_type": "stream",
     "text": [
      "[7 2 7 8 1 2 5 3 5 1]\n",
      "[1 1 2 2 3 5 5 7 8 7]\n"
     ]
    }
   ],
   "source": [
    "a1 = np.random.randint(1, 10, size= 10)\n",
    "print(a1)\n",
    "print(np.partition(a1, 3))"
   ]
  },
  {
   "cell_type": "markdown",
   "metadata": {
    "id": "77DSA72ML5cI"
   },
   "source": [
    "## 배열 입출력\n"
   ]
  },
  {
   "cell_type": "markdown",
   "metadata": {
    "id": "da-Mm_gzIs7U"
   },
   "source": [
    "|함수|설명|파일 종류|\n",
    "|----|---|---------|\n",
    "|`np.save()`|NumPy 배열 객체 1개를 파일에 저장|바이너리\n",
    "|`np.savez()`|NumPy 배열 객체 여러 개를 파일에 저장|바이너리\n",
    "|`np.load()`|NumPy 배열 저장 파일로부터 객체 로딩|바이너리\n",
    "|`np.loadtxt()`|텍스트 파일로부터 배열 로딩|텍스트\n",
    "|`np.savetxt()`|텍스트 파일에 NumPy 배열 객체 저장|텍스트"
   ]
  },
  {
   "cell_type": "code",
   "execution_count": 221,
   "metadata": {
    "colab": {
     "base_uri": "https://localhost:8080/",
     "height": 34
    },
    "id": "pFOWyDvAsf11",
    "outputId": "8be0a298-07ab-4526-e9d4-2796faadee9a"
   },
   "outputs": [
    {
     "data": {
      "text/plain": [
       "array([[8, 4, 9],\n",
       "       [6, 2, 6],\n",
       "       [1, 3, 6]])"
      ]
     },
     "execution_count": 221,
     "metadata": {},
     "output_type": "execute_result"
    }
   ],
   "source": [
    "np.save('a',a2)"
   ]
  },
  {
   "cell_type": "code",
   "execution_count": null,
   "metadata": {
    "id": "ArWZfL31s1wU"
   },
   "outputs": [],
   "source": [
    "np.savetxt('아무거나.csv',a2,delimiter=',', fmt='%.2e',header='c1,c2,c3')"
   ]
  },
  {
   "cell_type": "code",
   "execution_count": null,
   "metadata": {
    "id": "che4cEJEs2Tr"
   },
   "outputs": [],
   "source": [
    "csv = np.loadtxt('아무거나.csv', delimiter=',')"
   ]
  },
  {
   "cell_type": "code",
   "execution_count": null,
   "metadata": {
    "id": "X2yIUsYvtMj6"
   },
   "outputs": [],
   "source": []
  },
  {
   "cell_type": "code",
   "execution_count": null,
   "metadata": {
    "id": "Yj5ec-CYtaH1"
   },
   "outputs": [],
   "source": []
  },
  {
   "cell_type": "code",
   "execution_count": null,
   "metadata": {
    "id": "_NIDrc-VuPmv"
   },
   "outputs": [],
   "source": []
  },
  {
   "cell_type": "code",
   "execution_count": null,
   "metadata": {
    "id": "bPhmIoVBuQMf"
   },
   "outputs": [],
   "source": []
  },
  {
   "cell_type": "code",
   "execution_count": null,
   "metadata": {
    "id": "FeB2p4azuTDv"
   },
   "outputs": [],
   "source": []
  },
  {
   "cell_type": "code",
   "execution_count": null,
   "metadata": {
    "id": "IUg8Vg4fuxR5"
   },
   "outputs": [],
   "source": []
  },
  {
   "cell_type": "code",
   "execution_count": null,
   "metadata": {
    "id": "lIK5dSv6vtm2"
   },
   "outputs": [],
   "source": []
  },
  {
   "cell_type": "code",
   "execution_count": null,
   "metadata": {
    "id": "l4O-gVxdv8-d"
   },
   "outputs": [],
   "source": []
  },
  {
   "cell_type": "markdown",
   "metadata": {
    "id": "JM2Ghx2NGloN"
   },
   "source": [
    "\n",
    "\n",
    "---\n",
    "\n"
   ]
  }
 ],
 "metadata": {
  "colab": {
   "collapsed_sections": [],
   "name": "_NumPy 한번에 제대로 배우기.ipynb",
   "provenance": [],
   "toc_visible": true
  },
  "kernelspec": {
   "display_name": "Python 3",
   "language": "python",
   "name": "python3"
  },
  "language_info": {
   "codemirror_mode": {
    "name": "ipython",
    "version": 3
   },
   "file_extension": ".py",
   "mimetype": "text/x-python",
   "name": "python",
   "nbconvert_exporter": "python",
   "pygments_lexer": "ipython3",
   "version": "3.8.8"
  }
 },
 "nbformat": 4,
 "nbformat_minor": 1
}
